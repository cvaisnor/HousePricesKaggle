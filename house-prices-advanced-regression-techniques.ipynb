{
 "cells": [
  {
   "cell_type": "markdown",
   "id": "37123086",
   "metadata": {
    "_cell_guid": "6876eaaa-66b8-4955-9d92-e4bceb008a40",
    "_uuid": "23c5712d-3fa8-4ef3-8432-923825d5a0b4",
    "papermill": {
     "duration": 0.037037,
     "end_time": "2022-04-11T04:28:57.032058",
     "exception": false,
     "start_time": "2022-04-11T04:28:56.995021",
     "status": "completed"
    },
    "tags": []
   },
   "source": [
    "# Imports"
   ]
  },
  {
   "cell_type": "code",
   "execution_count": 1,
   "id": "9c8a9fa1",
   "metadata": {
    "_cell_guid": "41b1b1df-7330-4e89-b81f-5eb833deeea1",
    "_uuid": "48246f9c-b9d4-4cb4-bfb4-37cb16d9090b",
    "collapsed": false,
    "execution": {
     "iopub.execute_input": "2022-04-11T04:28:57.110550Z",
     "iopub.status.busy": "2022-04-11T04:28:57.109717Z",
     "iopub.status.idle": "2022-04-11T04:28:59.566992Z",
     "shell.execute_reply": "2022-04-11T04:28:59.566314Z",
     "shell.execute_reply.started": "2022-04-11T04:26:40.478304Z"
    },
    "jupyter": {
     "outputs_hidden": false
    },
    "papermill": {
     "duration": 2.496978,
     "end_time": "2022-04-11T04:28:59.567146",
     "exception": false,
     "start_time": "2022-04-11T04:28:57.070168",
     "status": "completed"
    },
    "tags": []
   },
   "outputs": [],
   "source": [
    "import numpy as np\n",
    "import pandas as pd\n",
    "\n",
    "from matplotlib import pyplot as plt\n",
    "from plotly import express as px, graph_objects as go\n",
    "\n",
    "from sklearn.ensemble import GradientBoostingRegressor, RandomForestRegressor\n",
    "from sklearn.feature_selection import SelectFromModel\n",
    "\n",
    "from sklearn.linear_model import (\n",
    "    BayesianRidge,\n",
    "    ElasticNet,\n",
    "    LinearRegression,\n",
    "    RidgeCV,\n",
    "    SGDRegressor,\n",
    ")\n",
    "\n",
    "from sklearn.model_selection import cross_val_score, GridSearchCV\n",
    "from sklearn.pipeline import Pipeline\n",
    "from sklearn.preprocessing import PolynomialFeatures, StandardScaler\n",
    "\n",
    "%matplotlib inline"
   ]
  },
  {
   "cell_type": "markdown",
   "id": "8add86dc",
   "metadata": {
    "_cell_guid": "81a9e4b6-d05c-4ae9-8180-403bff04d0a4",
    "_uuid": "a02f38be-8290-4be9-aaeb-17f611f8c652",
    "papermill": {
     "duration": 0.035881,
     "end_time": "2022-04-11T04:28:59.650615",
     "exception": false,
     "start_time": "2022-04-11T04:28:59.614734",
     "status": "completed"
    },
    "tags": []
   },
   "source": [
    "# Reading Data"
   ]
  },
  {
   "cell_type": "code",
   "execution_count": 2,
   "id": "94256c06",
   "metadata": {
    "_cell_guid": "b847c758-a244-464f-bf43-f91383cafea6",
    "_uuid": "f1cdc3aa-144e-4726-a114-55506de33067",
    "collapsed": false,
    "execution": {
     "iopub.execute_input": "2022-04-11T04:28:59.734350Z",
     "iopub.status.busy": "2022-04-11T04:28:59.733738Z",
     "iopub.status.idle": "2022-04-11T04:28:59.804990Z",
     "shell.execute_reply": "2022-04-11T04:28:59.805515Z",
     "shell.execute_reply.started": "2022-04-11T04:26:41.783594Z"
    },
    "jupyter": {
     "outputs_hidden": false
    },
    "papermill": {
     "duration": 0.113292,
     "end_time": "2022-04-11T04:28:59.805701",
     "exception": false,
     "start_time": "2022-04-11T04:28:59.692409",
     "status": "completed"
    },
    "tags": []
   },
   "outputs": [
    {
     "data": {
      "text/html": [
       "<div>\n",
       "<style scoped>\n",
       "    .dataframe tbody tr th:only-of-type {\n",
       "        vertical-align: middle;\n",
       "    }\n",
       "\n",
       "    .dataframe tbody tr th {\n",
       "        vertical-align: top;\n",
       "    }\n",
       "\n",
       "    .dataframe thead th {\n",
       "        text-align: right;\n",
       "    }\n",
       "</style>\n",
       "<table border=\"1\" class=\"dataframe\">\n",
       "  <thead>\n",
       "    <tr style=\"text-align: right;\">\n",
       "      <th></th>\n",
       "      <th>MSSubClass</th>\n",
       "      <th>MSZoning</th>\n",
       "      <th>LotFrontage</th>\n",
       "      <th>LotArea</th>\n",
       "      <th>Street</th>\n",
       "      <th>Alley</th>\n",
       "      <th>LotShape</th>\n",
       "      <th>LandContour</th>\n",
       "      <th>Utilities</th>\n",
       "      <th>LotConfig</th>\n",
       "      <th>...</th>\n",
       "      <th>PoolArea</th>\n",
       "      <th>PoolQC</th>\n",
       "      <th>Fence</th>\n",
       "      <th>MiscFeature</th>\n",
       "      <th>MiscVal</th>\n",
       "      <th>MoSold</th>\n",
       "      <th>YrSold</th>\n",
       "      <th>SaleType</th>\n",
       "      <th>SaleCondition</th>\n",
       "      <th>SalePrice</th>\n",
       "    </tr>\n",
       "    <tr>\n",
       "      <th>Id</th>\n",
       "      <th></th>\n",
       "      <th></th>\n",
       "      <th></th>\n",
       "      <th></th>\n",
       "      <th></th>\n",
       "      <th></th>\n",
       "      <th></th>\n",
       "      <th></th>\n",
       "      <th></th>\n",
       "      <th></th>\n",
       "      <th></th>\n",
       "      <th></th>\n",
       "      <th></th>\n",
       "      <th></th>\n",
       "      <th></th>\n",
       "      <th></th>\n",
       "      <th></th>\n",
       "      <th></th>\n",
       "      <th></th>\n",
       "      <th></th>\n",
       "      <th></th>\n",
       "    </tr>\n",
       "  </thead>\n",
       "  <tbody>\n",
       "    <tr>\n",
       "      <th>1</th>\n",
       "      <td>60</td>\n",
       "      <td>RL</td>\n",
       "      <td>65.0</td>\n",
       "      <td>8450</td>\n",
       "      <td>Pave</td>\n",
       "      <td>NaN</td>\n",
       "      <td>Reg</td>\n",
       "      <td>Lvl</td>\n",
       "      <td>AllPub</td>\n",
       "      <td>Inside</td>\n",
       "      <td>...</td>\n",
       "      <td>0</td>\n",
       "      <td>NaN</td>\n",
       "      <td>NaN</td>\n",
       "      <td>NaN</td>\n",
       "      <td>0</td>\n",
       "      <td>2</td>\n",
       "      <td>2008</td>\n",
       "      <td>WD</td>\n",
       "      <td>Normal</td>\n",
       "      <td>208500</td>\n",
       "    </tr>\n",
       "    <tr>\n",
       "      <th>2</th>\n",
       "      <td>20</td>\n",
       "      <td>RL</td>\n",
       "      <td>80.0</td>\n",
       "      <td>9600</td>\n",
       "      <td>Pave</td>\n",
       "      <td>NaN</td>\n",
       "      <td>Reg</td>\n",
       "      <td>Lvl</td>\n",
       "      <td>AllPub</td>\n",
       "      <td>FR2</td>\n",
       "      <td>...</td>\n",
       "      <td>0</td>\n",
       "      <td>NaN</td>\n",
       "      <td>NaN</td>\n",
       "      <td>NaN</td>\n",
       "      <td>0</td>\n",
       "      <td>5</td>\n",
       "      <td>2007</td>\n",
       "      <td>WD</td>\n",
       "      <td>Normal</td>\n",
       "      <td>181500</td>\n",
       "    </tr>\n",
       "    <tr>\n",
       "      <th>3</th>\n",
       "      <td>60</td>\n",
       "      <td>RL</td>\n",
       "      <td>68.0</td>\n",
       "      <td>11250</td>\n",
       "      <td>Pave</td>\n",
       "      <td>NaN</td>\n",
       "      <td>IR1</td>\n",
       "      <td>Lvl</td>\n",
       "      <td>AllPub</td>\n",
       "      <td>Inside</td>\n",
       "      <td>...</td>\n",
       "      <td>0</td>\n",
       "      <td>NaN</td>\n",
       "      <td>NaN</td>\n",
       "      <td>NaN</td>\n",
       "      <td>0</td>\n",
       "      <td>9</td>\n",
       "      <td>2008</td>\n",
       "      <td>WD</td>\n",
       "      <td>Normal</td>\n",
       "      <td>223500</td>\n",
       "    </tr>\n",
       "    <tr>\n",
       "      <th>4</th>\n",
       "      <td>70</td>\n",
       "      <td>RL</td>\n",
       "      <td>60.0</td>\n",
       "      <td>9550</td>\n",
       "      <td>Pave</td>\n",
       "      <td>NaN</td>\n",
       "      <td>IR1</td>\n",
       "      <td>Lvl</td>\n",
       "      <td>AllPub</td>\n",
       "      <td>Corner</td>\n",
       "      <td>...</td>\n",
       "      <td>0</td>\n",
       "      <td>NaN</td>\n",
       "      <td>NaN</td>\n",
       "      <td>NaN</td>\n",
       "      <td>0</td>\n",
       "      <td>2</td>\n",
       "      <td>2006</td>\n",
       "      <td>WD</td>\n",
       "      <td>Abnorml</td>\n",
       "      <td>140000</td>\n",
       "    </tr>\n",
       "    <tr>\n",
       "      <th>5</th>\n",
       "      <td>60</td>\n",
       "      <td>RL</td>\n",
       "      <td>84.0</td>\n",
       "      <td>14260</td>\n",
       "      <td>Pave</td>\n",
       "      <td>NaN</td>\n",
       "      <td>IR1</td>\n",
       "      <td>Lvl</td>\n",
       "      <td>AllPub</td>\n",
       "      <td>FR2</td>\n",
       "      <td>...</td>\n",
       "      <td>0</td>\n",
       "      <td>NaN</td>\n",
       "      <td>NaN</td>\n",
       "      <td>NaN</td>\n",
       "      <td>0</td>\n",
       "      <td>12</td>\n",
       "      <td>2008</td>\n",
       "      <td>WD</td>\n",
       "      <td>Normal</td>\n",
       "      <td>250000</td>\n",
       "    </tr>\n",
       "  </tbody>\n",
       "</table>\n",
       "<p>5 rows × 80 columns</p>\n",
       "</div>"
      ],
      "text/plain": [
       "    MSSubClass MSZoning  LotFrontage  LotArea Street Alley LotShape  \\\n",
       "Id                                                                    \n",
       "1           60       RL         65.0     8450   Pave   NaN      Reg   \n",
       "2           20       RL         80.0     9600   Pave   NaN      Reg   \n",
       "3           60       RL         68.0    11250   Pave   NaN      IR1   \n",
       "4           70       RL         60.0     9550   Pave   NaN      IR1   \n",
       "5           60       RL         84.0    14260   Pave   NaN      IR1   \n",
       "\n",
       "   LandContour Utilities LotConfig  ... PoolArea PoolQC Fence MiscFeature  \\\n",
       "Id                                  ...                                     \n",
       "1          Lvl    AllPub    Inside  ...        0    NaN   NaN         NaN   \n",
       "2          Lvl    AllPub       FR2  ...        0    NaN   NaN         NaN   \n",
       "3          Lvl    AllPub    Inside  ...        0    NaN   NaN         NaN   \n",
       "4          Lvl    AllPub    Corner  ...        0    NaN   NaN         NaN   \n",
       "5          Lvl    AllPub       FR2  ...        0    NaN   NaN         NaN   \n",
       "\n",
       "   MiscVal MoSold  YrSold  SaleType  SaleCondition  SalePrice  \n",
       "Id                                                             \n",
       "1        0      2    2008        WD         Normal     208500  \n",
       "2        0      5    2007        WD         Normal     181500  \n",
       "3        0      9    2008        WD         Normal     223500  \n",
       "4        0      2    2006        WD        Abnorml     140000  \n",
       "5        0     12    2008        WD         Normal     250000  \n",
       "\n",
       "[5 rows x 80 columns]"
      ]
     },
     "execution_count": 2,
     "metadata": {},
     "output_type": "execute_result"
    }
   ],
   "source": [
    "df = pd.read_csv('train.csv', index_col='Id')\n",
    "df.head()"
   ]
  },
  {
   "cell_type": "code",
   "execution_count": 3,
   "id": "5f536888",
   "metadata": {
    "_cell_guid": "bfaf2d52-af3d-4bee-8bcd-d493155f4016",
    "_uuid": "cc2d27f7-e680-41a6-8dab-638c7dd67fb9",
    "collapsed": false,
    "execution": {
     "iopub.execute_input": "2022-04-11T04:28:59.921897Z",
     "iopub.status.busy": "2022-04-11T04:28:59.921122Z",
     "iopub.status.idle": "2022-04-11T04:28:59.945897Z",
     "shell.execute_reply": "2022-04-11T04:28:59.946424Z",
     "shell.execute_reply.started": "2022-04-11T04:26:41.844526Z"
    },
    "jupyter": {
     "outputs_hidden": false
    },
    "papermill": {
     "duration": 0.08413,
     "end_time": "2022-04-11T04:28:59.946585",
     "exception": false,
     "start_time": "2022-04-11T04:28:59.862455",
     "status": "completed"
    },
    "tags": []
   },
   "outputs": [
    {
     "name": "stdout",
     "output_type": "stream",
     "text": [
      "<class 'pandas.core.frame.DataFrame'>\n",
      "Int64Index: 1460 entries, 1 to 1460\n",
      "Data columns (total 80 columns):\n",
      " #   Column         Non-Null Count  Dtype  \n",
      "---  ------         --------------  -----  \n",
      " 0   MSSubClass     1460 non-null   int64  \n",
      " 1   MSZoning       1460 non-null   object \n",
      " 2   LotFrontage    1201 non-null   float64\n",
      " 3   LotArea        1460 non-null   int64  \n",
      " 4   Street         1460 non-null   object \n",
      " 5   Alley          91 non-null     object \n",
      " 6   LotShape       1460 non-null   object \n",
      " 7   LandContour    1460 non-null   object \n",
      " 8   Utilities      1460 non-null   object \n",
      " 9   LotConfig      1460 non-null   object \n",
      " 10  LandSlope      1460 non-null   object \n",
      " 11  Neighborhood   1460 non-null   object \n",
      " 12  Condition1     1460 non-null   object \n",
      " 13  Condition2     1460 non-null   object \n",
      " 14  BldgType       1460 non-null   object \n",
      " 15  HouseStyle     1460 non-null   object \n",
      " 16  OverallQual    1460 non-null   int64  \n",
      " 17  OverallCond    1460 non-null   int64  \n",
      " 18  YearBuilt      1460 non-null   int64  \n",
      " 19  YearRemodAdd   1460 non-null   int64  \n",
      " 20  RoofStyle      1460 non-null   object \n",
      " 21  RoofMatl       1460 non-null   object \n",
      " 22  Exterior1st    1460 non-null   object \n",
      " 23  Exterior2nd    1460 non-null   object \n",
      " 24  MasVnrType     1452 non-null   object \n",
      " 25  MasVnrArea     1452 non-null   float64\n",
      " 26  ExterQual      1460 non-null   object \n",
      " 27  ExterCond      1460 non-null   object \n",
      " 28  Foundation     1460 non-null   object \n",
      " 29  BsmtQual       1423 non-null   object \n",
      " 30  BsmtCond       1423 non-null   object \n",
      " 31  BsmtExposure   1422 non-null   object \n",
      " 32  BsmtFinType1   1423 non-null   object \n",
      " 33  BsmtFinSF1     1460 non-null   int64  \n",
      " 34  BsmtFinType2   1422 non-null   object \n",
      " 35  BsmtFinSF2     1460 non-null   int64  \n",
      " 36  BsmtUnfSF      1460 non-null   int64  \n",
      " 37  TotalBsmtSF    1460 non-null   int64  \n",
      " 38  Heating        1460 non-null   object \n",
      " 39  HeatingQC      1460 non-null   object \n",
      " 40  CentralAir     1460 non-null   object \n",
      " 41  Electrical     1459 non-null   object \n",
      " 42  1stFlrSF       1460 non-null   int64  \n",
      " 43  2ndFlrSF       1460 non-null   int64  \n",
      " 44  LowQualFinSF   1460 non-null   int64  \n",
      " 45  GrLivArea      1460 non-null   int64  \n",
      " 46  BsmtFullBath   1460 non-null   int64  \n",
      " 47  BsmtHalfBath   1460 non-null   int64  \n",
      " 48  FullBath       1460 non-null   int64  \n",
      " 49  HalfBath       1460 non-null   int64  \n",
      " 50  BedroomAbvGr   1460 non-null   int64  \n",
      " 51  KitchenAbvGr   1460 non-null   int64  \n",
      " 52  KitchenQual    1460 non-null   object \n",
      " 53  TotRmsAbvGrd   1460 non-null   int64  \n",
      " 54  Functional     1460 non-null   object \n",
      " 55  Fireplaces     1460 non-null   int64  \n",
      " 56  FireplaceQu    770 non-null    object \n",
      " 57  GarageType     1379 non-null   object \n",
      " 58  GarageYrBlt    1379 non-null   float64\n",
      " 59  GarageFinish   1379 non-null   object \n",
      " 60  GarageCars     1460 non-null   int64  \n",
      " 61  GarageArea     1460 non-null   int64  \n",
      " 62  GarageQual     1379 non-null   object \n",
      " 63  GarageCond     1379 non-null   object \n",
      " 64  PavedDrive     1460 non-null   object \n",
      " 65  WoodDeckSF     1460 non-null   int64  \n",
      " 66  OpenPorchSF    1460 non-null   int64  \n",
      " 67  EnclosedPorch  1460 non-null   int64  \n",
      " 68  3SsnPorch      1460 non-null   int64  \n",
      " 69  ScreenPorch    1460 non-null   int64  \n",
      " 70  PoolArea       1460 non-null   int64  \n",
      " 71  PoolQC         7 non-null      object \n",
      " 72  Fence          281 non-null    object \n",
      " 73  MiscFeature    54 non-null     object \n",
      " 74  MiscVal        1460 non-null   int64  \n",
      " 75  MoSold         1460 non-null   int64  \n",
      " 76  YrSold         1460 non-null   int64  \n",
      " 77  SaleType       1460 non-null   object \n",
      " 78  SaleCondition  1460 non-null   object \n",
      " 79  SalePrice      1460 non-null   int64  \n",
      "dtypes: float64(3), int64(34), object(43)\n",
      "memory usage: 923.9+ KB\n"
     ]
    }
   ],
   "source": [
    "df.info()"
   ]
  },
  {
   "cell_type": "markdown",
   "id": "78b69493",
   "metadata": {
    "_cell_guid": "6045f3f9-ebad-42c2-b1f5-ee8847bdfe13",
    "_uuid": "466e05cf-91ef-4acc-8b51-1699cd2614bd",
    "papermill": {
     "duration": 0.036512,
     "end_time": "2022-04-11T04:29:00.020357",
     "exception": false,
     "start_time": "2022-04-11T04:28:59.983845",
     "status": "completed"
    },
    "tags": []
   },
   "source": [
    "# Exploratory Data Analysis"
   ]
  },
  {
   "cell_type": "markdown",
   "id": "add197c1",
   "metadata": {
    "_cell_guid": "8037cfd6-c9be-4b39-be2b-126e8af873b0",
    "_uuid": "08c62b95-9008-40dd-ac79-558f95c80136",
    "papermill": {
     "duration": 0.058622,
     "end_time": "2022-04-11T04:29:00.117823",
     "exception": false,
     "start_time": "2022-04-11T04:29:00.059201",
     "status": "completed"
    },
    "tags": []
   },
   "source": [
    "### Splitting features and target"
   ]
  },
  {
   "cell_type": "code",
   "execution_count": 4,
   "id": "1024cbe3",
   "metadata": {
    "_cell_guid": "27bc17d9-3015-4c95-81da-33732f49c10f",
    "_uuid": "9db26e25-c641-4f60-8303-cad589698e28",
    "collapsed": false,
    "execution": {
     "iopub.execute_input": "2022-04-11T04:29:00.233470Z",
     "iopub.status.busy": "2022-04-11T04:29:00.232791Z",
     "iopub.status.idle": "2022-04-11T04:29:00.236775Z",
     "shell.execute_reply": "2022-04-11T04:29:00.237345Z",
     "shell.execute_reply.started": "2022-04-11T04:26:41.873742Z"
    },
    "jupyter": {
     "outputs_hidden": false
    },
    "papermill": {
     "duration": 0.062717,
     "end_time": "2022-04-11T04:29:00.237498",
     "exception": false,
     "start_time": "2022-04-11T04:29:00.174781",
     "status": "completed"
    },
    "tags": []
   },
   "outputs": [],
   "source": [
    "X = df.drop('SalePrice', axis=1)\n",
    "y = df['SalePrice']"
   ]
  },
  {
   "cell_type": "markdown",
   "id": "996f1437",
   "metadata": {
    "_cell_guid": "442f5315-ab5b-4c64-9020-0ce9c4de50ff",
    "_uuid": "1c9dde4f-6036-4cf1-867a-eeddca906457",
    "papermill": {
     "duration": 0.055931,
     "end_time": "2022-04-11T04:29:00.349765",
     "exception": false,
     "start_time": "2022-04-11T04:29:00.293834",
     "status": "completed"
    },
    "tags": []
   },
   "source": [
    "### Defining numerical and categorical features"
   ]
  },
  {
   "cell_type": "code",
   "execution_count": 5,
   "id": "ef0c2bd8",
   "metadata": {
    "_cell_guid": "26559abe-f6d9-4583-989c-fc2446806970",
    "_uuid": "b1a005bf-a06a-4018-8fc2-eab66ed18047",
    "collapsed": false,
    "execution": {
     "iopub.execute_input": "2022-04-11T04:29:00.466925Z",
     "iopub.status.busy": "2022-04-11T04:29:00.466258Z",
     "iopub.status.idle": "2022-04-11T04:29:00.472394Z",
     "shell.execute_reply": "2022-04-11T04:29:00.472949Z",
     "shell.execute_reply.started": "2022-04-11T04:26:41.881530Z"
    },
    "jupyter": {
     "outputs_hidden": false
    },
    "papermill": {
     "duration": 0.066165,
     "end_time": "2022-04-11T04:29:00.473118",
     "exception": false,
     "start_time": "2022-04-11T04:29:00.406953",
     "status": "completed"
    },
    "tags": []
   },
   "outputs": [],
   "source": [
    "nominal_features = [\n",
    "    'MSSubClass', 'MSZoning', 'Street', 'LandContour', 'LotConfig', 'Neighborhood', \n",
    "    'Condition1', 'Condition2', 'BldgType', 'HouseStyle', 'RoofStyle', 'RoofMatl', \n",
    "    'Exterior1st', 'Exterior2nd', 'MasVnrType', 'Foundation', 'Heating', 'SaleType', \n",
    "    'SaleCondition','GarageType', 'Alley', 'Fence', 'MiscFeature'\n",
    "]\n",
    "\n",
    "ordinal_features = [\n",
    "    'LotShape', 'Utilities', 'LandSlope', 'OverallQual', 'OverallCond', 'ExterQual', \n",
    "    'ExterCond', 'HeatingQC', 'CentralAir', 'KitchenQual', 'Functional', 'PavedDrive', \n",
    "    'Electrical', 'BsmtQual', 'BsmtCond', 'BsmtExposure', 'BsmtFinType1', 'BsmtFinType2', \n",
    "    'FireplaceQu', 'GarageFinish', 'GarageQual', 'GarageCond', 'PoolQC'\n",
    "]\n",
    "\n",
    "continuous_features = [\n",
    "    'LotFrontage', 'LotArea', 'MasVnrArea', 'BsmtFinSF1', 'BsmtFinSF2', 'BsmtUnfSF', \n",
    "    'TotalBsmtSF', '1stFlrSF', '2ndFlrSF', 'LowQualFinSF', 'GrLivArea', 'GarageArea', \n",
    "    'WoodDeckSF', 'OpenPorchSF', 'EnclosedPorch', '3SsnPorch', 'ScreenPorch', 'PoolArea', \n",
    "    'MiscVal'\n",
    "]\n",
    "\n",
    "discrete_features = [\n",
    "    'YearBuilt', 'YearRemodAdd', 'BsmtFullBath', 'BsmtHalfBath', 'FullBath', 'HalfBath', \n",
    "    'BedroomAbvGr', 'KitchenAbvGr', 'TotRmsAbvGrd', 'Fireplaces', 'GarageYrBlt', 'GarageCars', \n",
    "    'MoSold', 'YrSold'\n",
    "]"
   ]
  },
  {
   "cell_type": "markdown",
   "id": "dcfffbdf",
   "metadata": {
    "_cell_guid": "4e4c0945-4204-4fc9-ad0f-3417cc4b9258",
    "_uuid": "2bd0fa08-6372-4345-ab72-c38d0492b883",
    "papermill": {
     "duration": 0.057919,
     "end_time": "2022-04-11T04:29:00.588442",
     "exception": false,
     "start_time": "2022-04-11T04:29:00.530523",
     "status": "completed"
    },
    "tags": []
   },
   "source": [
    "### Checking for missing values"
   ]
  },
  {
   "cell_type": "code",
   "execution_count": 6,
   "id": "1860e2fe",
   "metadata": {
    "_cell_guid": "6e8514a8-6f31-4475-8fce-e997bdc77d6a",
    "_uuid": "19ea4362-a270-4448-a10b-3812966ea2bd",
    "collapsed": false,
    "execution": {
     "iopub.execute_input": "2022-04-11T04:29:00.708626Z",
     "iopub.status.busy": "2022-04-11T04:29:00.707316Z",
     "iopub.status.idle": "2022-04-11T04:29:00.712914Z",
     "shell.execute_reply": "2022-04-11T04:29:00.712293Z",
     "shell.execute_reply.started": "2022-04-11T04:26:41.893490Z"
    },
    "jupyter": {
     "outputs_hidden": false
    },
    "papermill": {
     "duration": 0.06615,
     "end_time": "2022-04-11T04:29:00.713053",
     "exception": false,
     "start_time": "2022-04-11T04:29:00.646903",
     "status": "completed"
    },
    "tags": []
   },
   "outputs": [],
   "source": [
    "def null_pct(df: pd.DataFrame, thold=0):\n",
    "    \"\"\"Get the percentage of nulls in a DataFrame above given threshold\"\"\"\n",
    "    pct = df.isna().mean()\n",
    "    return pct[pct > thold]"
   ]
  },
  {
   "cell_type": "code",
   "execution_count": 7,
   "id": "857f6249",
   "metadata": {
    "_cell_guid": "25fa1990-f83b-46b5-8f27-d5915ff41cc9",
    "_uuid": "fe7a737c-9461-4d1d-9129-57f8c86ffa86",
    "collapsed": false,
    "execution": {
     "iopub.execute_input": "2022-04-11T04:29:00.837192Z",
     "iopub.status.busy": "2022-04-11T04:29:00.836382Z",
     "iopub.status.idle": "2022-04-11T04:29:00.839249Z",
     "shell.execute_reply": "2022-04-11T04:29:00.839778Z",
     "shell.execute_reply.started": "2022-04-11T04:26:41.939699Z"
    },
    "jupyter": {
     "outputs_hidden": false
    },
    "papermill": {
     "duration": 0.06723,
     "end_time": "2022-04-11T04:29:00.839933",
     "exception": false,
     "start_time": "2022-04-11T04:29:00.772703",
     "status": "completed"
    },
    "tags": []
   },
   "outputs": [
    {
     "data": {
      "text/plain": [
       "array([], dtype=float64)"
      ]
     },
     "execution_count": 7,
     "metadata": {},
     "output_type": "execute_result"
    }
   ],
   "source": [
    "null_pct(y)"
   ]
  },
  {
   "cell_type": "code",
   "execution_count": 8,
   "id": "07038cbe",
   "metadata": {
    "_cell_guid": "b1aaf330-bcaa-46ee-9322-a4834bb7ef91",
    "_uuid": "9d9ae5fc-0d7d-472c-9c8b-5cc1f76cd0df",
    "collapsed": false,
    "execution": {
     "iopub.execute_input": "2022-04-11T04:29:00.960739Z",
     "iopub.status.busy": "2022-04-11T04:29:00.959904Z",
     "iopub.status.idle": "2022-04-11T04:29:00.969591Z",
     "shell.execute_reply": "2022-04-11T04:29:00.970116Z",
     "shell.execute_reply.started": "2022-04-11T04:26:42.177505Z"
    },
    "jupyter": {
     "outputs_hidden": false
    },
    "papermill": {
     "duration": 0.071554,
     "end_time": "2022-04-11T04:29:00.970282",
     "exception": false,
     "start_time": "2022-04-11T04:29:00.898728",
     "status": "completed"
    },
    "tags": []
   },
   "outputs": [
    {
     "data": {
      "text/plain": [
       "LotFrontage     0.177397\n",
       "Alley           0.937671\n",
       "MasVnrType      0.005479\n",
       "MasVnrArea      0.005479\n",
       "BsmtQual        0.025342\n",
       "BsmtCond        0.025342\n",
       "BsmtExposure    0.026027\n",
       "BsmtFinType1    0.025342\n",
       "BsmtFinType2    0.026027\n",
       "Electrical      0.000685\n",
       "FireplaceQu     0.472603\n",
       "GarageType      0.055479\n",
       "GarageYrBlt     0.055479\n",
       "GarageFinish    0.055479\n",
       "GarageQual      0.055479\n",
       "GarageCond      0.055479\n",
       "PoolQC          0.995205\n",
       "Fence           0.807534\n",
       "MiscFeature     0.963014\n",
       "dtype: float64"
      ]
     },
     "execution_count": 8,
     "metadata": {},
     "output_type": "execute_result"
    }
   ],
   "source": [
    "null_pct(X)"
   ]
  },
  {
   "cell_type": "markdown",
   "id": "a152daa9",
   "metadata": {
    "_cell_guid": "7ea17cf3-e1e9-4327-8a2f-72b61815427c",
    "_uuid": "0f9b00f1-c3e2-4ba6-8bc3-debb98b6c663",
    "papermill": {
     "duration": 0.058567,
     "end_time": "2022-04-11T04:29:01.089612",
     "exception": false,
     "start_time": "2022-04-11T04:29:01.031045",
     "status": "completed"
    },
    "tags": []
   },
   "source": [
    "Based on data description null values for most of these features have a meaning"
   ]
  },
  {
   "cell_type": "markdown",
   "id": "ba781211",
   "metadata": {
    "_cell_guid": "6360151c-e9d0-4d18-bc97-a8e67429a54d",
    "_uuid": "657dc6e6-563b-43bc-805c-083892b82038",
    "papermill": {
     "duration": 0.057369,
     "end_time": "2022-04-11T04:29:01.204696",
     "exception": false,
     "start_time": "2022-04-11T04:29:01.147327",
     "status": "completed"
    },
    "tags": []
   },
   "source": [
    "Why do MasVnrType and MasVnrArea have missing values?"
   ]
  },
  {
   "cell_type": "code",
   "execution_count": 9,
   "id": "90d07cd1",
   "metadata": {
    "_cell_guid": "50cb700a-7dde-42ea-b09d-5e0ae876e5b6",
    "_uuid": "c1e5b067-c316-47d1-9cfd-e47675a024c5",
    "collapsed": false,
    "execution": {
     "iopub.execute_input": "2022-04-11T04:29:01.324830Z",
     "iopub.status.busy": "2022-04-11T04:29:01.324005Z",
     "iopub.status.idle": "2022-04-11T04:29:01.333054Z",
     "shell.execute_reply": "2022-04-11T04:29:01.333564Z",
     "shell.execute_reply.started": "2022-04-11T04:26:42.417140Z"
    },
    "jupyter": {
     "outputs_hidden": false
    },
    "papermill": {
     "duration": 0.070341,
     "end_time": "2022-04-11T04:29:01.333741",
     "exception": false,
     "start_time": "2022-04-11T04:29:01.263400",
     "status": "completed"
    },
    "tags": []
   },
   "outputs": [
    {
     "data": {
      "text/html": [
       "<div>\n",
       "<style scoped>\n",
       "    .dataframe tbody tr th:only-of-type {\n",
       "        vertical-align: middle;\n",
       "    }\n",
       "\n",
       "    .dataframe tbody tr th {\n",
       "        vertical-align: top;\n",
       "    }\n",
       "\n",
       "    .dataframe thead th {\n",
       "        text-align: right;\n",
       "    }\n",
       "</style>\n",
       "<table border=\"1\" class=\"dataframe\">\n",
       "  <thead>\n",
       "    <tr style=\"text-align: right;\">\n",
       "      <th></th>\n",
       "      <th>MasVnrType</th>\n",
       "      <th>MasVnrArea</th>\n",
       "    </tr>\n",
       "    <tr>\n",
       "      <th>Id</th>\n",
       "      <th></th>\n",
       "      <th></th>\n",
       "    </tr>\n",
       "  </thead>\n",
       "  <tbody>\n",
       "    <tr>\n",
       "      <th>235</th>\n",
       "      <td>NaN</td>\n",
       "      <td>NaN</td>\n",
       "    </tr>\n",
       "    <tr>\n",
       "      <th>530</th>\n",
       "      <td>NaN</td>\n",
       "      <td>NaN</td>\n",
       "    </tr>\n",
       "    <tr>\n",
       "      <th>651</th>\n",
       "      <td>NaN</td>\n",
       "      <td>NaN</td>\n",
       "    </tr>\n",
       "    <tr>\n",
       "      <th>937</th>\n",
       "      <td>NaN</td>\n",
       "      <td>NaN</td>\n",
       "    </tr>\n",
       "    <tr>\n",
       "      <th>974</th>\n",
       "      <td>NaN</td>\n",
       "      <td>NaN</td>\n",
       "    </tr>\n",
       "    <tr>\n",
       "      <th>978</th>\n",
       "      <td>NaN</td>\n",
       "      <td>NaN</td>\n",
       "    </tr>\n",
       "    <tr>\n",
       "      <th>1244</th>\n",
       "      <td>NaN</td>\n",
       "      <td>NaN</td>\n",
       "    </tr>\n",
       "    <tr>\n",
       "      <th>1279</th>\n",
       "      <td>NaN</td>\n",
       "      <td>NaN</td>\n",
       "    </tr>\n",
       "  </tbody>\n",
       "</table>\n",
       "</div>"
      ],
      "text/plain": [
       "     MasVnrType  MasVnrArea\n",
       "Id                         \n",
       "235         NaN         NaN\n",
       "530         NaN         NaN\n",
       "651         NaN         NaN\n",
       "937         NaN         NaN\n",
       "974         NaN         NaN\n",
       "978         NaN         NaN\n",
       "1244        NaN         NaN\n",
       "1279        NaN         NaN"
      ]
     },
     "execution_count": 9,
     "metadata": {},
     "output_type": "execute_result"
    }
   ],
   "source": [
    "X.loc[X['MasVnrType'].isna(), ['MasVnrType', 'MasVnrArea']]"
   ]
  },
  {
   "cell_type": "markdown",
   "id": "64dc8ded",
   "metadata": {
    "_cell_guid": "1a3aba71-8da3-4ffe-aac9-c4d42524d23a",
    "_uuid": "549d8a16-31b9-466e-b3e2-e9cfa4afe7b9",
    "papermill": {
     "duration": 0.058587,
     "end_time": "2022-04-11T04:29:01.451378",
     "exception": false,
     "start_time": "2022-04-11T04:29:01.392791",
     "status": "completed"
    },
    "tags": []
   },
   "source": [
    "Apparently there was no masonry veneer for those houses."
   ]
  },
  {
   "cell_type": "markdown",
   "id": "1ec121ed",
   "metadata": {
    "_cell_guid": "5314eb25-b92d-4f86-a105-33c7a1d11efb",
    "_uuid": "664a9b98-04f1-4caa-a4aa-454b35694bc4",
    "papermill": {
     "duration": 0.058009,
     "end_time": "2022-04-11T04:29:01.567732",
     "exception": false,
     "start_time": "2022-04-11T04:29:01.509723",
     "status": "completed"
    },
    "tags": []
   },
   "source": [
    "#### Filling missing values for MasVnrType (MasVnrArea will be filled with continuous variables)"
   ]
  },
  {
   "cell_type": "code",
   "execution_count": 10,
   "id": "ea1cf750",
   "metadata": {
    "_cell_guid": "0df2ef30-867b-428b-b215-9561a7b885ef",
    "_uuid": "d7201b2a-c334-4537-b663-ff642f7366c1",
    "collapsed": false,
    "execution": {
     "iopub.execute_input": "2022-04-11T04:29:01.689758Z",
     "iopub.status.busy": "2022-04-11T04:29:01.688931Z",
     "iopub.status.idle": "2022-04-11T04:29:01.692431Z",
     "shell.execute_reply": "2022-04-11T04:29:01.693001Z",
     "shell.execute_reply.started": "2022-04-11T04:26:42.656999Z"
    },
    "jupyter": {
     "outputs_hidden": false
    },
    "papermill": {
     "duration": 0.066671,
     "end_time": "2022-04-11T04:29:01.693163",
     "exception": false,
     "start_time": "2022-04-11T04:29:01.626492",
     "status": "completed"
    },
    "tags": []
   },
   "outputs": [],
   "source": [
    "X['MasVnrType'] = X['MasVnrType'].fillna('None')"
   ]
  },
  {
   "cell_type": "markdown",
   "id": "2b156812",
   "metadata": {
    "_cell_guid": "58702060-5e81-4471-8a1f-8596b5228a05",
    "_uuid": "1c1df372-30cb-4c39-8ad2-34ec5cb364a9",
    "papermill": {
     "duration": 0.060017,
     "end_time": "2022-04-11T04:29:01.811742",
     "exception": false,
     "start_time": "2022-04-11T04:29:01.751725",
     "status": "completed"
    },
    "tags": []
   },
   "source": [
    "### Filling missing values"
   ]
  },
  {
   "cell_type": "markdown",
   "id": "214fe1b5",
   "metadata": {
    "_cell_guid": "b405ee7c-a38e-4cff-8321-0fae020c7870",
    "_uuid": "1bda4732-b014-4553-ac62-f224f8265599",
    "papermill": {
     "duration": 0.059875,
     "end_time": "2022-04-11T04:29:01.930718",
     "exception": false,
     "start_time": "2022-04-11T04:29:01.870843",
     "status": "completed"
    },
    "tags": []
   },
   "source": [
    "#### Filling categorical or discrete missing values with mode"
   ]
  },
  {
   "cell_type": "code",
   "execution_count": 11,
   "id": "52e980a3",
   "metadata": {
    "_cell_guid": "111f8756-720e-45a3-aa58-2d5f451aa740",
    "_uuid": "2db46684-b71f-42fe-beb5-84c4bf627933",
    "collapsed": false,
    "execution": {
     "iopub.execute_input": "2022-04-11T04:29:02.055157Z",
     "iopub.status.busy": "2022-04-11T04:29:02.054467Z",
     "iopub.status.idle": "2022-04-11T04:29:02.103218Z",
     "shell.execute_reply": "2022-04-11T04:29:02.103620Z",
     "shell.execute_reply.started": "2022-04-11T04:26:42.896110Z"
    },
    "jupyter": {
     "outputs_hidden": false
    },
    "papermill": {
     "duration": 0.111979,
     "end_time": "2022-04-11T04:29:02.103759",
     "exception": false,
     "start_time": "2022-04-11T04:29:01.991780",
     "status": "completed"
    },
    "tags": []
   },
   "outputs": [],
   "source": [
    "for col in (nominal_features + ordinal_features + discrete_features):\n",
    "    X[col] = X[col].fillna(X[col].mode())"
   ]
  },
  {
   "cell_type": "markdown",
   "id": "8f1d8901",
   "metadata": {
    "_cell_guid": "73509ee7-c829-44fb-b299-3dc3e562bf73",
    "_uuid": "7046059a-044c-48d2-89e9-5368c70c88e6",
    "papermill": {
     "duration": 0.0381,
     "end_time": "2022-04-11T04:29:02.180083",
     "exception": false,
     "start_time": "2022-04-11T04:29:02.141983",
     "status": "completed"
    },
    "tags": []
   },
   "source": [
    "#### Filling numerical missing values with 0 (because in most cases 0 means not applicable)"
   ]
  },
  {
   "cell_type": "code",
   "execution_count": 12,
   "id": "8d13f6de",
   "metadata": {
    "_cell_guid": "ce89ce2f-d9ba-4488-9882-b97542379ae5",
    "_uuid": "339b0819-1b4a-4513-ad94-3805f02e0f4f",
    "collapsed": false,
    "execution": {
     "iopub.execute_input": "2022-04-11T04:29:02.259939Z",
     "iopub.status.busy": "2022-04-11T04:29:02.259395Z",
     "iopub.status.idle": "2022-04-11T04:29:02.268152Z",
     "shell.execute_reply": "2022-04-11T04:29:02.268547Z",
     "shell.execute_reply.started": "2022-04-11T04:26:43.129634Z"
    },
    "jupyter": {
     "outputs_hidden": false
    },
    "papermill": {
     "duration": 0.050413,
     "end_time": "2022-04-11T04:29:02.268726",
     "exception": false,
     "start_time": "2022-04-11T04:29:02.218313",
     "status": "completed"
    },
    "tags": []
   },
   "outputs": [],
   "source": [
    "for col in (continuous_features + discrete_features):\n",
    "    X[col] = X[col].fillna(0)"
   ]
  },
  {
   "cell_type": "markdown",
   "id": "b1bcdd3e",
   "metadata": {
    "_cell_guid": "c7fe20ad-d487-4b3a-984a-f1acd6e3386b",
    "_uuid": "68823ad1-c7e9-476e-9650-baa09f543620",
    "papermill": {
     "duration": 0.038702,
     "end_time": "2022-04-11T04:29:02.345865",
     "exception": false,
     "start_time": "2022-04-11T04:29:02.307163",
     "status": "completed"
    },
    "tags": []
   },
   "source": [
    "### Encoding Categorical Features"
   ]
  },
  {
   "cell_type": "markdown",
   "id": "4d9def4f",
   "metadata": {
    "_cell_guid": "dbc306b4-fcee-48f3-bb5d-7fe7f2f0b325",
    "_uuid": "e17d3308-ec90-41bb-8be4-62b9e57d214b",
    "papermill": {
     "duration": 0.038419,
     "end_time": "2022-04-11T04:29:02.422737",
     "exception": false,
     "start_time": "2022-04-11T04:29:02.384318",
     "status": "completed"
    },
    "tags": []
   },
   "source": [
    "#### One-hot encoding"
   ]
  },
  {
   "cell_type": "code",
   "execution_count": 13,
   "id": "8d39f5ff",
   "metadata": {
    "_cell_guid": "87ef8944-3809-48bf-83ed-7c916ac4300f",
    "_uuid": "3c29ebf5-c577-442c-aae4-e44c6d7a6591",
    "collapsed": false,
    "execution": {
     "iopub.execute_input": "2022-04-11T04:29:02.502049Z",
     "iopub.status.busy": "2022-04-11T04:29:02.501378Z",
     "iopub.status.idle": "2022-04-11T04:29:02.538301Z",
     "shell.execute_reply": "2022-04-11T04:29:02.538724Z",
     "shell.execute_reply.started": "2022-04-11T04:26:43.369565Z"
    },
    "jupyter": {
     "outputs_hidden": false
    },
    "papermill": {
     "duration": 0.077489,
     "end_time": "2022-04-11T04:29:02.538878",
     "exception": false,
     "start_time": "2022-04-11T04:29:02.461389",
     "status": "completed"
    },
    "tags": []
   },
   "outputs": [],
   "source": [
    "dummies = pd.get_dummies(X[nominal_features]).sort_index()\n",
    "X = pd.concat([X, dummies], axis=1)\n",
    "X = X.drop(nominal_features, axis=1)"
   ]
  },
  {
   "cell_type": "markdown",
   "id": "ecbf1faf",
   "metadata": {
    "_cell_guid": "a4679c2f-749a-48e4-80b9-beb00847247e",
    "_uuid": "da710bdd-9c9c-4358-88ef-4bd14f9e1f44",
    "papermill": {
     "duration": 0.037857,
     "end_time": "2022-04-11T04:29:02.614891",
     "exception": false,
     "start_time": "2022-04-11T04:29:02.577034",
     "status": "completed"
    },
    "tags": []
   },
   "source": [
    "#### Ordinal encoding"
   ]
  },
  {
   "cell_type": "code",
   "execution_count": 14,
   "id": "5f002dab",
   "metadata": {
    "_cell_guid": "60dad8dd-20df-4f30-b18d-4c6ee1e8670f",
    "_uuid": "d7ca921c-49d4-41ac-81ce-0c3bb1cb61b6",
    "collapsed": false,
    "execution": {
     "iopub.execute_input": "2022-04-11T04:29:02.695092Z",
     "iopub.status.busy": "2022-04-11T04:29:02.694397Z",
     "iopub.status.idle": "2022-04-11T04:29:02.703829Z",
     "shell.execute_reply": "2022-04-11T04:29:02.704210Z",
     "shell.execute_reply.started": "2022-04-11T04:26:43.628255Z"
    },
    "jupyter": {
     "outputs_hidden": false
    },
    "papermill": {
     "duration": 0.051184,
     "end_time": "2022-04-11T04:29:02.704365",
     "exception": false,
     "start_time": "2022-04-11T04:29:02.653181",
     "status": "completed"
    },
    "tags": []
   },
   "outputs": [],
   "source": [
    "rating = {np.nan: 0, 'Po': 1, 'Fa': 2, 'TA': 3, 'Gd': 4, 'Ex': 5}\n",
    "\n",
    "ordinal_encoding = {\n",
    "    'LotShape': {np.nan: 0, 'Reg': 1, 'IR1': 2, 'IR2': 3, 'IR3': 4}, \n",
    "    'Utilities': {np.nan: 0, 'ElO': 1, 'NoSeWa': 2, 'NoSeWr': 3, 'AllPub': 4}, \n",
    "    'LandSlope': {np.nan: 0, 'Gtl': 1, 'Mod': 2, 'Sev': 3}, \n",
    "    'ExterQual': rating, \n",
    "    'ExterCond': rating, \n",
    "    'BsmtQual': rating, \n",
    "    'BsmtCond': rating, \n",
    "    'BsmtExposure': {np.nan: 0, 'No': 1, 'Mn': 2, 'Av': 3, 'Gd': 4}, \n",
    "    'BsmtFinType1': {np.nan: 0, 'Unf': 1, 'LwQ': 2, 'Rec': 3, 'BLQ': 4, 'ALQ': 5, 'GLQ': 6}, \n",
    "    'BsmtFinType2': {np.nan: 0, 'Unf': 1, 'LwQ': 2, 'Rec': 3, 'BLQ': 4, 'ALQ': 5, 'GLQ': 6}, \n",
    "    'HeatingQC': rating, \n",
    "    'CentralAir': {np.nan: 0, 'N': 1, 'Y': 2}, \n",
    "    'Electrical': {np.nan: 0, 'Mix': 1, 'FuseP': 2, 'FuseF': 3, 'FuseA': 4, 'SBrkr': 5}, \n",
    "    'KitchenQual': rating, \n",
    "    'Functional': {np.nan: 0, 'Sal': 1, 'Sev': 2, 'Maj2': 3, 'Maj1': 4, 'Mod': 5, 'Min2': 6, 'Min1': 7, 'Typ': 8}, \n",
    "    'FireplaceQu': rating, \n",
    "    'GarageFinish': {np.nan: 0, 'Unf': 1, 'RFn': 2, 'Fin': 3}, \n",
    "    'GarageQual': rating, \n",
    "    'GarageCond': rating, \n",
    "    'PavedDrive': {np.nan: 0, 'N': 1, 'P': 2, 'Y': 3}, \n",
    "    'PoolQC': rating\n",
    "}"
   ]
  },
  {
   "cell_type": "code",
   "execution_count": 15,
   "id": "0281d002",
   "metadata": {
    "_cell_guid": "1c16e66a-2558-43c9-9489-f97cbb2b464f",
    "_uuid": "3d64a354-d083-4805-a030-2384a58d3a9a",
    "collapsed": false,
    "execution": {
     "iopub.execute_input": "2022-04-11T04:29:02.783253Z",
     "iopub.status.busy": "2022-04-11T04:29:02.782792Z",
     "iopub.status.idle": "2022-04-11T04:29:02.833734Z",
     "shell.execute_reply": "2022-04-11T04:29:02.833273Z",
     "shell.execute_reply.started": "2022-04-11T04:26:43.862571Z"
    },
    "jupyter": {
     "outputs_hidden": false
    },
    "papermill": {
     "duration": 0.091411,
     "end_time": "2022-04-11T04:29:02.833852",
     "exception": false,
     "start_time": "2022-04-11T04:29:02.742441",
     "status": "completed"
    },
    "tags": []
   },
   "outputs": [
    {
     "data": {
      "text/html": [
       "<div>\n",
       "<style scoped>\n",
       "    .dataframe tbody tr th:only-of-type {\n",
       "        vertical-align: middle;\n",
       "    }\n",
       "\n",
       "    .dataframe tbody tr th {\n",
       "        vertical-align: top;\n",
       "    }\n",
       "\n",
       "    .dataframe thead th {\n",
       "        text-align: right;\n",
       "    }\n",
       "</style>\n",
       "<table border=\"1\" class=\"dataframe\">\n",
       "  <thead>\n",
       "    <tr style=\"text-align: right;\">\n",
       "      <th></th>\n",
       "      <th>LotFrontage</th>\n",
       "      <th>LotArea</th>\n",
       "      <th>LotShape</th>\n",
       "      <th>Utilities</th>\n",
       "      <th>LandSlope</th>\n",
       "      <th>OverallQual</th>\n",
       "      <th>OverallCond</th>\n",
       "      <th>YearBuilt</th>\n",
       "      <th>YearRemodAdd</th>\n",
       "      <th>MasVnrArea</th>\n",
       "      <th>...</th>\n",
       "      <th>Alley_Grvl</th>\n",
       "      <th>Alley_Pave</th>\n",
       "      <th>Fence_GdPrv</th>\n",
       "      <th>Fence_GdWo</th>\n",
       "      <th>Fence_MnPrv</th>\n",
       "      <th>Fence_MnWw</th>\n",
       "      <th>MiscFeature_Gar2</th>\n",
       "      <th>MiscFeature_Othr</th>\n",
       "      <th>MiscFeature_Shed</th>\n",
       "      <th>MiscFeature_TenC</th>\n",
       "    </tr>\n",
       "    <tr>\n",
       "      <th>Id</th>\n",
       "      <th></th>\n",
       "      <th></th>\n",
       "      <th></th>\n",
       "      <th></th>\n",
       "      <th></th>\n",
       "      <th></th>\n",
       "      <th></th>\n",
       "      <th></th>\n",
       "      <th></th>\n",
       "      <th></th>\n",
       "      <th></th>\n",
       "      <th></th>\n",
       "      <th></th>\n",
       "      <th></th>\n",
       "      <th></th>\n",
       "      <th></th>\n",
       "      <th></th>\n",
       "      <th></th>\n",
       "      <th></th>\n",
       "      <th></th>\n",
       "      <th></th>\n",
       "    </tr>\n",
       "  </thead>\n",
       "  <tbody>\n",
       "    <tr>\n",
       "      <th>1</th>\n",
       "      <td>65.0</td>\n",
       "      <td>8450</td>\n",
       "      <td>1</td>\n",
       "      <td>4</td>\n",
       "      <td>1</td>\n",
       "      <td>7</td>\n",
       "      <td>5</td>\n",
       "      <td>2003</td>\n",
       "      <td>2003</td>\n",
       "      <td>196.0</td>\n",
       "      <td>...</td>\n",
       "      <td>0</td>\n",
       "      <td>0</td>\n",
       "      <td>0</td>\n",
       "      <td>0</td>\n",
       "      <td>0</td>\n",
       "      <td>0</td>\n",
       "      <td>0</td>\n",
       "      <td>0</td>\n",
       "      <td>0</td>\n",
       "      <td>0</td>\n",
       "    </tr>\n",
       "    <tr>\n",
       "      <th>2</th>\n",
       "      <td>80.0</td>\n",
       "      <td>9600</td>\n",
       "      <td>1</td>\n",
       "      <td>4</td>\n",
       "      <td>1</td>\n",
       "      <td>6</td>\n",
       "      <td>8</td>\n",
       "      <td>1976</td>\n",
       "      <td>1976</td>\n",
       "      <td>0.0</td>\n",
       "      <td>...</td>\n",
       "      <td>0</td>\n",
       "      <td>0</td>\n",
       "      <td>0</td>\n",
       "      <td>0</td>\n",
       "      <td>0</td>\n",
       "      <td>0</td>\n",
       "      <td>0</td>\n",
       "      <td>0</td>\n",
       "      <td>0</td>\n",
       "      <td>0</td>\n",
       "    </tr>\n",
       "    <tr>\n",
       "      <th>3</th>\n",
       "      <td>68.0</td>\n",
       "      <td>11250</td>\n",
       "      <td>2</td>\n",
       "      <td>4</td>\n",
       "      <td>1</td>\n",
       "      <td>7</td>\n",
       "      <td>5</td>\n",
       "      <td>2001</td>\n",
       "      <td>2002</td>\n",
       "      <td>162.0</td>\n",
       "      <td>...</td>\n",
       "      <td>0</td>\n",
       "      <td>0</td>\n",
       "      <td>0</td>\n",
       "      <td>0</td>\n",
       "      <td>0</td>\n",
       "      <td>0</td>\n",
       "      <td>0</td>\n",
       "      <td>0</td>\n",
       "      <td>0</td>\n",
       "      <td>0</td>\n",
       "    </tr>\n",
       "    <tr>\n",
       "      <th>4</th>\n",
       "      <td>60.0</td>\n",
       "      <td>9550</td>\n",
       "      <td>2</td>\n",
       "      <td>4</td>\n",
       "      <td>1</td>\n",
       "      <td>7</td>\n",
       "      <td>5</td>\n",
       "      <td>1915</td>\n",
       "      <td>1970</td>\n",
       "      <td>0.0</td>\n",
       "      <td>...</td>\n",
       "      <td>0</td>\n",
       "      <td>0</td>\n",
       "      <td>0</td>\n",
       "      <td>0</td>\n",
       "      <td>0</td>\n",
       "      <td>0</td>\n",
       "      <td>0</td>\n",
       "      <td>0</td>\n",
       "      <td>0</td>\n",
       "      <td>0</td>\n",
       "    </tr>\n",
       "    <tr>\n",
       "      <th>5</th>\n",
       "      <td>84.0</td>\n",
       "      <td>14260</td>\n",
       "      <td>2</td>\n",
       "      <td>4</td>\n",
       "      <td>1</td>\n",
       "      <td>8</td>\n",
       "      <td>5</td>\n",
       "      <td>2000</td>\n",
       "      <td>2000</td>\n",
       "      <td>350.0</td>\n",
       "      <td>...</td>\n",
       "      <td>0</td>\n",
       "      <td>0</td>\n",
       "      <td>0</td>\n",
       "      <td>0</td>\n",
       "      <td>0</td>\n",
       "      <td>0</td>\n",
       "      <td>0</td>\n",
       "      <td>0</td>\n",
       "      <td>0</td>\n",
       "      <td>0</td>\n",
       "    </tr>\n",
       "  </tbody>\n",
       "</table>\n",
       "<p>5 rows × 219 columns</p>\n",
       "</div>"
      ],
      "text/plain": [
       "    LotFrontage  LotArea  LotShape  Utilities  LandSlope  OverallQual  \\\n",
       "Id                                                                      \n",
       "1          65.0     8450         1          4          1            7   \n",
       "2          80.0     9600         1          4          1            6   \n",
       "3          68.0    11250         2          4          1            7   \n",
       "4          60.0     9550         2          4          1            7   \n",
       "5          84.0    14260         2          4          1            8   \n",
       "\n",
       "    OverallCond  YearBuilt  YearRemodAdd  MasVnrArea  ...  Alley_Grvl  \\\n",
       "Id                                                    ...               \n",
       "1             5       2003          2003       196.0  ...           0   \n",
       "2             8       1976          1976         0.0  ...           0   \n",
       "3             5       2001          2002       162.0  ...           0   \n",
       "4             5       1915          1970         0.0  ...           0   \n",
       "5             5       2000          2000       350.0  ...           0   \n",
       "\n",
       "    Alley_Pave  Fence_GdPrv  Fence_GdWo  Fence_MnPrv  Fence_MnWw  \\\n",
       "Id                                                                 \n",
       "1            0            0           0            0           0   \n",
       "2            0            0           0            0           0   \n",
       "3            0            0           0            0           0   \n",
       "4            0            0           0            0           0   \n",
       "5            0            0           0            0           0   \n",
       "\n",
       "    MiscFeature_Gar2  MiscFeature_Othr  MiscFeature_Shed  MiscFeature_TenC  \n",
       "Id                                                                          \n",
       "1                  0                 0                 0                 0  \n",
       "2                  0                 0                 0                 0  \n",
       "3                  0                 0                 0                 0  \n",
       "4                  0                 0                 0                 0  \n",
       "5                  0                 0                 0                 0  \n",
       "\n",
       "[5 rows x 219 columns]"
      ]
     },
     "execution_count": 15,
     "metadata": {},
     "output_type": "execute_result"
    }
   ],
   "source": [
    "X = X.replace(ordinal_encoding)\n",
    "X.head()"
   ]
  },
  {
   "cell_type": "code",
   "execution_count": 16,
   "id": "0f55d095",
   "metadata": {
    "_cell_guid": "2c626d7c-daf3-4b9c-9bd4-6067a460bcd6",
    "_uuid": "92e4b66d-6e49-48d3-ba37-2a6d2fed92eb",
    "collapsed": false,
    "execution": {
     "iopub.execute_input": "2022-04-11T04:29:02.916711Z",
     "iopub.status.busy": "2022-04-11T04:29:02.916189Z",
     "iopub.status.idle": "2022-04-11T04:29:02.933318Z",
     "shell.execute_reply": "2022-04-11T04:29:02.934045Z",
     "shell.execute_reply.started": "2022-04-11T04:26:44.099007Z"
    },
    "jupyter": {
     "outputs_hidden": false
    },
    "papermill": {
     "duration": 0.061231,
     "end_time": "2022-04-11T04:29:02.934185",
     "exception": false,
     "start_time": "2022-04-11T04:29:02.872954",
     "status": "completed"
    },
    "tags": []
   },
   "outputs": [
    {
     "name": "stdout",
     "output_type": "stream",
     "text": [
      "<class 'pandas.core.frame.DataFrame'>\n",
      "Int64Index: 1460 entries, 1 to 1460\n",
      "Columns: 219 entries, LotFrontage to MiscFeature_TenC\n",
      "dtypes: float64(3), int64(53), uint8(163)\n",
      "memory usage: 882.6 KB\n"
     ]
    }
   ],
   "source": [
    "X.info()"
   ]
  },
  {
   "cell_type": "markdown",
   "id": "f833254d",
   "metadata": {
    "papermill": {
     "duration": 0.040091,
     "end_time": "2022-04-11T04:29:03.013863",
     "exception": false,
     "start_time": "2022-04-11T04:29:02.973772",
     "status": "completed"
    },
    "tags": []
   },
   "source": [
    "### Scaling features"
   ]
  },
  {
   "cell_type": "code",
   "execution_count": 17,
   "id": "7d7acdf3",
   "metadata": {
    "execution": {
     "iopub.execute_input": "2022-04-11T04:29:03.101903Z",
     "iopub.status.busy": "2022-04-11T04:29:03.101336Z",
     "iopub.status.idle": "2022-04-11T04:29:03.316507Z",
     "shell.execute_reply": "2022-04-11T04:29:03.316082Z",
     "shell.execute_reply.started": "2022-04-11T04:26:44.325433Z"
    },
    "papermill": {
     "duration": 0.262562,
     "end_time": "2022-04-11T04:29:03.316651",
     "exception": false,
     "start_time": "2022-04-11T04:29:03.054089",
     "status": "completed"
    },
    "tags": []
   },
   "outputs": [
    {
     "data": {
      "text/html": [
       "<div>\n",
       "<style scoped>\n",
       "    .dataframe tbody tr th:only-of-type {\n",
       "        vertical-align: middle;\n",
       "    }\n",
       "\n",
       "    .dataframe tbody tr th {\n",
       "        vertical-align: top;\n",
       "    }\n",
       "\n",
       "    .dataframe thead th {\n",
       "        text-align: right;\n",
       "    }\n",
       "</style>\n",
       "<table border=\"1\" class=\"dataframe\">\n",
       "  <thead>\n",
       "    <tr style=\"text-align: right;\">\n",
       "      <th></th>\n",
       "      <th>LotFrontage</th>\n",
       "      <th>LotArea</th>\n",
       "      <th>LotShape</th>\n",
       "      <th>Utilities</th>\n",
       "      <th>LandSlope</th>\n",
       "      <th>OverallQual</th>\n",
       "      <th>OverallCond</th>\n",
       "      <th>YearBuilt</th>\n",
       "      <th>YearRemodAdd</th>\n",
       "      <th>MasVnrArea</th>\n",
       "      <th>...</th>\n",
       "      <th>Alley_Grvl</th>\n",
       "      <th>Alley_Pave</th>\n",
       "      <th>Fence_GdPrv</th>\n",
       "      <th>Fence_GdWo</th>\n",
       "      <th>Fence_MnPrv</th>\n",
       "      <th>Fence_MnWw</th>\n",
       "      <th>MiscFeature_Gar2</th>\n",
       "      <th>MiscFeature_Othr</th>\n",
       "      <th>MiscFeature_Shed</th>\n",
       "      <th>MiscFeature_TenC</th>\n",
       "    </tr>\n",
       "    <tr>\n",
       "      <th>Id</th>\n",
       "      <th></th>\n",
       "      <th></th>\n",
       "      <th></th>\n",
       "      <th></th>\n",
       "      <th></th>\n",
       "      <th></th>\n",
       "      <th></th>\n",
       "      <th></th>\n",
       "      <th></th>\n",
       "      <th></th>\n",
       "      <th></th>\n",
       "      <th></th>\n",
       "      <th></th>\n",
       "      <th></th>\n",
       "      <th></th>\n",
       "      <th></th>\n",
       "      <th></th>\n",
       "      <th></th>\n",
       "      <th></th>\n",
       "      <th></th>\n",
       "      <th></th>\n",
       "    </tr>\n",
       "  </thead>\n",
       "  <tbody>\n",
       "    <tr>\n",
       "      <th>1</th>\n",
       "      <td>0.212877</td>\n",
       "      <td>-0.207142</td>\n",
       "      <td>-0.701291</td>\n",
       "      <td>0.02618</td>\n",
       "      <td>-0.225716</td>\n",
       "      <td>0.651479</td>\n",
       "      <td>-0.517200</td>\n",
       "      <td>1.050994</td>\n",
       "      <td>0.878668</td>\n",
       "      <td>0.514104</td>\n",
       "      <td>...</td>\n",
       "      <td>-0.188311</td>\n",
       "      <td>-0.169981</td>\n",
       "      <td>-0.205214</td>\n",
       "      <td>-0.195977</td>\n",
       "      <td>-0.347118</td>\n",
       "      <td>-0.087129</td>\n",
       "      <td>-0.037037</td>\n",
       "      <td>-0.037037</td>\n",
       "      <td>-0.186352</td>\n",
       "      <td>-0.02618</td>\n",
       "    </tr>\n",
       "    <tr>\n",
       "      <th>2</th>\n",
       "      <td>0.645747</td>\n",
       "      <td>-0.091886</td>\n",
       "      <td>-0.701291</td>\n",
       "      <td>0.02618</td>\n",
       "      <td>-0.225716</td>\n",
       "      <td>-0.071836</td>\n",
       "      <td>2.179628</td>\n",
       "      <td>0.156734</td>\n",
       "      <td>-0.429577</td>\n",
       "      <td>-0.570750</td>\n",
       "      <td>...</td>\n",
       "      <td>-0.188311</td>\n",
       "      <td>-0.169981</td>\n",
       "      <td>-0.205214</td>\n",
       "      <td>-0.195977</td>\n",
       "      <td>-0.347118</td>\n",
       "      <td>-0.087129</td>\n",
       "      <td>-0.037037</td>\n",
       "      <td>-0.037037</td>\n",
       "      <td>-0.186352</td>\n",
       "      <td>-0.02618</td>\n",
       "    </tr>\n",
       "    <tr>\n",
       "      <th>3</th>\n",
       "      <td>0.299451</td>\n",
       "      <td>0.073480</td>\n",
       "      <td>1.016637</td>\n",
       "      <td>0.02618</td>\n",
       "      <td>-0.225716</td>\n",
       "      <td>0.651479</td>\n",
       "      <td>-0.517200</td>\n",
       "      <td>0.984752</td>\n",
       "      <td>0.830215</td>\n",
       "      <td>0.325915</td>\n",
       "      <td>...</td>\n",
       "      <td>-0.188311</td>\n",
       "      <td>-0.169981</td>\n",
       "      <td>-0.205214</td>\n",
       "      <td>-0.195977</td>\n",
       "      <td>-0.347118</td>\n",
       "      <td>-0.087129</td>\n",
       "      <td>-0.037037</td>\n",
       "      <td>-0.037037</td>\n",
       "      <td>-0.186352</td>\n",
       "      <td>-0.02618</td>\n",
       "    </tr>\n",
       "    <tr>\n",
       "      <th>4</th>\n",
       "      <td>0.068587</td>\n",
       "      <td>-0.096897</td>\n",
       "      <td>1.016637</td>\n",
       "      <td>0.02618</td>\n",
       "      <td>-0.225716</td>\n",
       "      <td>0.651479</td>\n",
       "      <td>-0.517200</td>\n",
       "      <td>-1.863632</td>\n",
       "      <td>-0.720298</td>\n",
       "      <td>-0.570750</td>\n",
       "      <td>...</td>\n",
       "      <td>-0.188311</td>\n",
       "      <td>-0.169981</td>\n",
       "      <td>-0.205214</td>\n",
       "      <td>-0.195977</td>\n",
       "      <td>-0.347118</td>\n",
       "      <td>-0.087129</td>\n",
       "      <td>-0.037037</td>\n",
       "      <td>-0.037037</td>\n",
       "      <td>-0.186352</td>\n",
       "      <td>-0.02618</td>\n",
       "    </tr>\n",
       "    <tr>\n",
       "      <th>5</th>\n",
       "      <td>0.761179</td>\n",
       "      <td>0.375148</td>\n",
       "      <td>1.016637</td>\n",
       "      <td>0.02618</td>\n",
       "      <td>-0.225716</td>\n",
       "      <td>1.374795</td>\n",
       "      <td>-0.517200</td>\n",
       "      <td>0.951632</td>\n",
       "      <td>0.733308</td>\n",
       "      <td>1.366489</td>\n",
       "      <td>...</td>\n",
       "      <td>-0.188311</td>\n",
       "      <td>-0.169981</td>\n",
       "      <td>-0.205214</td>\n",
       "      <td>-0.195977</td>\n",
       "      <td>-0.347118</td>\n",
       "      <td>-0.087129</td>\n",
       "      <td>-0.037037</td>\n",
       "      <td>-0.037037</td>\n",
       "      <td>-0.186352</td>\n",
       "      <td>-0.02618</td>\n",
       "    </tr>\n",
       "  </tbody>\n",
       "</table>\n",
       "<p>5 rows × 219 columns</p>\n",
       "</div>"
      ],
      "text/plain": [
       "    LotFrontage   LotArea  LotShape  Utilities  LandSlope  OverallQual  \\\n",
       "Id                                                                       \n",
       "1      0.212877 -0.207142 -0.701291    0.02618  -0.225716     0.651479   \n",
       "2      0.645747 -0.091886 -0.701291    0.02618  -0.225716    -0.071836   \n",
       "3      0.299451  0.073480  1.016637    0.02618  -0.225716     0.651479   \n",
       "4      0.068587 -0.096897  1.016637    0.02618  -0.225716     0.651479   \n",
       "5      0.761179  0.375148  1.016637    0.02618  -0.225716     1.374795   \n",
       "\n",
       "    OverallCond  YearBuilt  YearRemodAdd  MasVnrArea  ...  Alley_Grvl  \\\n",
       "Id                                                    ...               \n",
       "1     -0.517200   1.050994      0.878668    0.514104  ...   -0.188311   \n",
       "2      2.179628   0.156734     -0.429577   -0.570750  ...   -0.188311   \n",
       "3     -0.517200   0.984752      0.830215    0.325915  ...   -0.188311   \n",
       "4     -0.517200  -1.863632     -0.720298   -0.570750  ...   -0.188311   \n",
       "5     -0.517200   0.951632      0.733308    1.366489  ...   -0.188311   \n",
       "\n",
       "    Alley_Pave  Fence_GdPrv  Fence_GdWo  Fence_MnPrv  Fence_MnWw  \\\n",
       "Id                                                                 \n",
       "1    -0.169981    -0.205214   -0.195977    -0.347118   -0.087129   \n",
       "2    -0.169981    -0.205214   -0.195977    -0.347118   -0.087129   \n",
       "3    -0.169981    -0.205214   -0.195977    -0.347118   -0.087129   \n",
       "4    -0.169981    -0.205214   -0.195977    -0.347118   -0.087129   \n",
       "5    -0.169981    -0.205214   -0.195977    -0.347118   -0.087129   \n",
       "\n",
       "    MiscFeature_Gar2  MiscFeature_Othr  MiscFeature_Shed  MiscFeature_TenC  \n",
       "Id                                                                          \n",
       "1          -0.037037         -0.037037         -0.186352          -0.02618  \n",
       "2          -0.037037         -0.037037         -0.186352          -0.02618  \n",
       "3          -0.037037         -0.037037         -0.186352          -0.02618  \n",
       "4          -0.037037         -0.037037         -0.186352          -0.02618  \n",
       "5          -0.037037         -0.037037         -0.186352          -0.02618  \n",
       "\n",
       "[5 rows x 219 columns]"
      ]
     },
     "execution_count": 17,
     "metadata": {},
     "output_type": "execute_result"
    }
   ],
   "source": [
    "X[:] = StandardScaler().fit_transform(X)\n",
    "X.head()"
   ]
  },
  {
   "cell_type": "code",
   "execution_count": 18,
   "id": "09f795ec",
   "metadata": {
    "execution": {
     "iopub.execute_input": "2022-04-11T04:29:03.404345Z",
     "iopub.status.busy": "2022-04-11T04:29:03.403834Z",
     "iopub.status.idle": "2022-04-11T04:29:03.420163Z",
     "shell.execute_reply": "2022-04-11T04:29:03.420558Z",
     "shell.execute_reply.started": "2022-04-11T04:26:44.626301Z"
    },
    "papermill": {
     "duration": 0.062816,
     "end_time": "2022-04-11T04:29:03.420742",
     "exception": false,
     "start_time": "2022-04-11T04:29:03.357926",
     "status": "completed"
    },
    "tags": []
   },
   "outputs": [
    {
     "name": "stdout",
     "output_type": "stream",
     "text": [
      "<class 'pandas.core.frame.DataFrame'>\n",
      "Int64Index: 1460 entries, 1 to 1460\n",
      "Columns: 219 entries, LotFrontage to MiscFeature_TenC\n",
      "dtypes: float64(219)\n",
      "memory usage: 2.5 MB\n"
     ]
    }
   ],
   "source": [
    "X.info()"
   ]
  },
  {
   "cell_type": "markdown",
   "id": "ad88b4cd",
   "metadata": {
    "_cell_guid": "1549f9da-ae36-40e0-83a3-bbd22477e83a",
    "_uuid": "98710a4e-398a-4b1f-a945-476edfcd1751",
    "papermill": {
     "duration": 0.039779,
     "end_time": "2022-04-11T04:29:03.501607",
     "exception": false,
     "start_time": "2022-04-11T04:29:03.461828",
     "status": "completed"
    },
    "tags": []
   },
   "source": [
    "# Data Preparation Pipeline"
   ]
  },
  {
   "cell_type": "markdown",
   "id": "255af44e",
   "metadata": {
    "_cell_guid": "456eb457-0729-4a9e-a6ca-94d5620f9df9",
    "_uuid": "c588b4af-5bac-4d09-b497-68953cf9d666",
    "papermill": {
     "duration": 0.039888,
     "end_time": "2022-04-11T04:29:03.582214",
     "exception": false,
     "start_time": "2022-04-11T04:29:03.542326",
     "status": "completed"
    },
    "tags": []
   },
   "source": [
    "### Prepare features function (Pipeline for all data preparation above)"
   ]
  },
  {
   "cell_type": "code",
   "execution_count": 19,
   "id": "5c2634c0",
   "metadata": {
    "_cell_guid": "bd267ab9-f002-47a8-ae08-d59e2f7d8ea1",
    "_uuid": "6e4aab54-963d-4eb8-ad39-c6950cb27644",
    "collapsed": false,
    "execution": {
     "iopub.execute_input": "2022-04-11T04:29:03.665374Z",
     "iopub.status.busy": "2022-04-11T04:29:03.664772Z",
     "iopub.status.idle": "2022-04-11T04:29:03.690370Z",
     "shell.execute_reply": "2022-04-11T04:29:03.690790Z",
     "shell.execute_reply.started": "2022-04-11T04:26:44.784842Z"
    },
    "jupyter": {
     "outputs_hidden": false
    },
    "papermill": {
     "duration": 0.068512,
     "end_time": "2022-04-11T04:29:03.690928",
     "exception": false,
     "start_time": "2022-04-11T04:29:03.622416",
     "status": "completed"
    },
    "tags": []
   },
   "outputs": [],
   "source": [
    "def prepare_features(df: pd.DataFrame, feature_names: list):\n",
    "    \"\"\"Preparing features for training\"\"\"\n",
    "    \n",
    "    # Creating DF\n",
    "    \n",
    "    X = pd.concat([pd.DataFrame(columns=feature_names), df])\n",
    "    \n",
    "    # Defining numerical and categorical features\n",
    "    \n",
    "    nominal_features = [\n",
    "        'MSSubClass', 'MSZoning', 'Street', 'LandContour', 'LotConfig', 'Neighborhood', \n",
    "        'Condition1', 'Condition2', 'BldgType', 'HouseStyle', 'RoofStyle', 'RoofMatl', \n",
    "        'Exterior1st', 'Exterior2nd', 'MasVnrType', 'Foundation', 'Heating', 'SaleType', \n",
    "        'SaleCondition','GarageType', 'Alley', 'Fence', 'MiscFeature'\n",
    "    ]\n",
    "\n",
    "    ordinal_features = [\n",
    "        'LotShape', 'Utilities', 'LandSlope', 'OverallQual', 'OverallCond', 'ExterQual', \n",
    "        'ExterCond', 'HeatingQC', 'CentralAir', 'KitchenQual', 'Functional', 'PavedDrive', \n",
    "        'Electrical', 'BsmtQual', 'BsmtCond', 'BsmtExposure', 'BsmtFinType1', 'BsmtFinType2', \n",
    "        'FireplaceQu', 'GarageFinish', 'GarageQual', 'GarageCond', 'PoolQC'\n",
    "    ]\n",
    "\n",
    "    continuous_features = [\n",
    "        'LotFrontage', 'LotArea', 'MasVnrArea', 'BsmtFinSF1', 'BsmtFinSF2', 'BsmtUnfSF', \n",
    "        'TotalBsmtSF', '1stFlrSF', '2ndFlrSF', 'LowQualFinSF', 'GrLivArea', 'GarageArea', \n",
    "        'WoodDeckSF', 'OpenPorchSF', 'EnclosedPorch', '3SsnPorch', 'ScreenPorch', 'PoolArea', \n",
    "        'MiscVal'\n",
    "    ]\n",
    "\n",
    "    discrete_features = [\n",
    "        'YearBuilt', 'YearRemodAdd', 'BsmtFullBath', 'BsmtHalfBath', 'FullBath', 'HalfBath', \n",
    "        'BedroomAbvGr', 'KitchenAbvGr', 'TotRmsAbvGrd', 'Fireplaces', 'GarageYrBlt', 'GarageCars', \n",
    "        'MoSold', 'YrSold'\n",
    "    ]\n",
    "    \n",
    "    # Filling missing values for MasVnrType\n",
    "\n",
    "    if 'MasVnrType' in X.columns:\n",
    "        X['MasVnrType'] = X['MasVnrType'].fillna('None')\n",
    "    \n",
    "    # Filling categorical or discrete missing values with mode\n",
    "\n",
    "    for col in (nominal_features + ordinal_features + discrete_features):\n",
    "        X[col] = X[col].fillna(X[col].mode())\n",
    "\n",
    "    # Filling numerical missing values with 0 (because in most cases 0 means not applicable)\n",
    "\n",
    "    for col in (continuous_features + discrete_features):\n",
    "        X[col] = X[col].fillna(0)\n",
    "    \n",
    "    # One Hot Encoding\n",
    "\n",
    "    dummies = pd.get_dummies(X[nominal_features]).sort_index()\n",
    "    dummies_cols = list(set(dummies.columns) & set(X.columns))\n",
    "    X[dummies_cols] = dummies[dummies_cols]\n",
    "    \n",
    "    # Ordinal Encoding\n",
    "\n",
    "    rating = {np.nan: 0, 'Po': 1, 'Fa': 2, 'TA': 3, 'Gd': 4, 'Ex': 5}\n",
    "    \n",
    "    ordinal_encoding = {\n",
    "        'LotShape': {np.nan: 0, 'Reg': 1, 'IR1': 2, 'IR2': 3, 'IR3': 4}, \n",
    "        'Utilities': {np.nan: 0, 'ElO': 1, 'NoSeWa': 2, 'NoSeWr': 3, 'AllPub': 4}, \n",
    "        'LandSlope': {np.nan: 0, 'Gtl': 1, 'Mod': 2, 'Sev': 3}, \n",
    "        'ExterQual': rating, \n",
    "        'ExterCond': rating, \n",
    "        'BsmtQual': rating, \n",
    "        'BsmtCond': rating, \n",
    "        'BsmtExposure': {np.nan: 0, 'No': 1, 'Mn': 2, 'Av': 3, 'Gd': 4}, \n",
    "        'BsmtFinType1': {np.nan: 0, 'Unf': 1, 'LwQ': 2, 'Rec': 3, 'BLQ': 4, 'ALQ': 5, 'GLQ': 6}, \n",
    "        'BsmtFinType2': {np.nan: 0, 'Unf': 1, 'LwQ': 2, 'Rec': 3, 'BLQ': 4, 'ALQ': 5, 'GLQ': 6}, \n",
    "        'HeatingQC': rating, \n",
    "        'CentralAir': {np.nan: 0, 'N': 1, 'Y': 2}, \n",
    "        'Electrical': {np.nan: 0, 'Mix': 1, 'FuseP': 2, 'FuseF': 3, 'FuseA': 4, 'SBrkr': 5}, \n",
    "        'KitchenQual': rating, \n",
    "        'Functional': {np.nan: 0, 'Sal': 1, 'Sev': 2, 'Maj2': 3, 'Maj1': 4, 'Mod': 5, 'Min2': 6, 'Min1': 7, 'Typ': 8}, \n",
    "        'FireplaceQu': rating, \n",
    "        'GarageFinish': {np.nan: 0, 'Unf': 1, 'RFn': 2, 'Fin': 3}, \n",
    "        'GarageQual': rating, \n",
    "        'GarageCond': rating, \n",
    "        'PavedDrive': {np.nan: 0, 'N': 1, 'P': 2, 'Y': 3}, \n",
    "        'PoolQC': rating\n",
    "    }\n",
    "\n",
    "    X = X.replace(ordinal_encoding)\n",
    "    \n",
    "    # Feature selection and filling NAs\n",
    "    \n",
    "    X = X[feature_names].fillna(0)\n",
    "    \n",
    "    # Scaling features\n",
    "    \n",
    "    X[:] = StandardScaler().fit_transform(X)\n",
    "    \n",
    "    return X\n"
   ]
  },
  {
   "cell_type": "markdown",
   "id": "11901389",
   "metadata": {
    "_cell_guid": "73d9b3b4-fb29-4da9-bfc5-45a4acae5995",
    "_uuid": "5e5e7ddc-970d-4df3-af79-0fde80244020",
    "papermill": {
     "duration": 0.03913,
     "end_time": "2022-04-11T04:29:03.769393",
     "exception": false,
     "start_time": "2022-04-11T04:29:03.730263",
     "status": "completed"
    },
    "tags": []
   },
   "source": [
    "# Plot Function"
   ]
  },
  {
   "cell_type": "code",
   "execution_count": 20,
   "id": "c7043183",
   "metadata": {
    "_cell_guid": "2c04c17c-bfd3-4969-bf3f-58f5c9cf46ae",
    "_uuid": "ebdcc5dc-7eb7-4f86-aa67-4379f9dc5b76",
    "collapsed": false,
    "execution": {
     "iopub.execute_input": "2022-04-11T04:29:03.853957Z",
     "iopub.status.busy": "2022-04-11T04:29:03.853476Z",
     "iopub.status.idle": "2022-04-11T04:29:03.859844Z",
     "shell.execute_reply": "2022-04-11T04:29:03.860255Z",
     "shell.execute_reply.started": "2022-04-11T04:26:45.012735Z"
    },
    "jupyter": {
     "outputs_hidden": false
    },
    "papermill": {
     "duration": 0.049533,
     "end_time": "2022-04-11T04:29:03.860491",
     "exception": false,
     "start_time": "2022-04-11T04:29:03.810958",
     "status": "completed"
    },
    "tags": []
   },
   "outputs": [],
   "source": [
    "def plot_actual_vs_pred(model, X, y):\n",
    "    \"\"\"Plotting actual vs predicted label\"\"\"\n",
    "    \n",
    "    y_pred = model.predict(X)\n",
    "    \n",
    "    plot_data = pd.concat([y, pd.Series(y_pred, name='PredictedPrice', index=y.index)], axis=1)\n",
    "    plot_data = plot_data.sort_values('SalePrice')\n",
    "    plot_data.index = y.index\n",
    "    plot_data = plot_data.reset_index()\n",
    "    \n",
    "    fig = px.scatter(plot_data, x='Id', y='SalePrice')\n",
    "    fig.add_trace(go.Scatter(x=plot_data['Id'], y=plot_data['PredictedPrice'], name='Prediction'))\n",
    "    fig.show()"
   ]
  },
  {
   "cell_type": "markdown",
   "id": "ce2675a1",
   "metadata": {
    "_cell_guid": "1b63da78-67ad-44c9-bcb8-890dabcc2c92",
    "_uuid": "ea5d358c-e089-4d89-b0ae-5511cd2ed139",
    "papermill": {
     "duration": 0.039571,
     "end_time": "2022-04-11T04:29:03.941243",
     "exception": false,
     "start_time": "2022-04-11T04:29:03.901672",
     "status": "completed"
    },
    "tags": []
   },
   "source": [
    "# Model Training"
   ]
  },
  {
   "cell_type": "code",
   "execution_count": 21,
   "id": "98ab2385",
   "metadata": {},
   "outputs": [],
   "source": [
    "import tensorflow as tf\n",
    "from tensorflow import keras\n",
    "from tensorflow.keras import layers"
   ]
  },
  {
   "cell_type": "code",
   "execution_count": 22,
   "id": "a87c417f",
   "metadata": {},
   "outputs": [
    {
     "name": "stdout",
     "output_type": "stream",
     "text": [
      "Number of GPUs available:  1\n"
     ]
    },
    {
     "name": "stderr",
     "output_type": "stream",
     "text": [
      "2022-04-13 04:39:37.357417: I tensorflow/stream_executor/cuda/cuda_gpu_executor.cc:936] successful NUMA node read from SysFS had negative value (-1), but there must be at least one NUMA node, so returning NUMA node zero\n",
      "2022-04-13 04:39:37.369399: I tensorflow/stream_executor/cuda/cuda_gpu_executor.cc:936] successful NUMA node read from SysFS had negative value (-1), but there must be at least one NUMA node, so returning NUMA node zero\n",
      "2022-04-13 04:39:37.369633: I tensorflow/stream_executor/cuda/cuda_gpu_executor.cc:936] successful NUMA node read from SysFS had negative value (-1), but there must be at least one NUMA node, so returning NUMA node zero\n"
     ]
    }
   ],
   "source": [
    "print(\"Number of GPUs available: \", len(tf.config.list_physical_devices('GPU')))"
   ]
  },
  {
   "cell_type": "code",
   "execution_count": 39,
   "id": "de9134ac",
   "metadata": {},
   "outputs": [],
   "source": [
    "model_tf = keras.Sequential([\n",
    "    layers.Dense(128, input_shape=(X.shape[1],), activation='relu'),\n",
    "    layers.Dense(256, activation='relu'),\n",
    "    layers.Dense(256, activation='relu'),\n",
    "    layers.Dense(128, activation='relu'),\n",
    "    layers.Dense(64, activation='relu'),\n",
    "    layers.Dense(1)\n",
    "])\n",
    "\n",
    "model_tf.compile(loss='mean_squared_error', optimizer=tf.keras.optimizers.Adam(0.001), metrics=[tf.keras.metrics.RootMeanSquaredError()])\n"
   ]
  },
  {
   "cell_type": "code",
   "execution_count": 40,
   "id": "ca05f74b",
   "metadata": {},
   "outputs": [
    {
     "name": "stdout",
     "output_type": "stream",
     "text": [
      "Epoch 1/60\n",
      "32/32 - 0s - loss: 39310364672.0000 - root_mean_squared_error: 198268.4062 - val_loss: 37708562432.0000 - val_root_mean_squared_error: 194186.9219 - 421ms/epoch - 13ms/step\n",
      "Epoch 2/60\n",
      "32/32 - 0s - loss: 30215135232.0000 - root_mean_squared_error: 173825.0156 - val_loss: 9714087936.0000 - val_root_mean_squared_error: 98560.0703 - 69ms/epoch - 2ms/step\n",
      "Epoch 3/60\n",
      "32/32 - 0s - loss: 3851464192.0000 - root_mean_squared_error: 62060.1680 - val_loss: 2660598784.0000 - val_root_mean_squared_error: 51580.9922 - 67ms/epoch - 2ms/step\n",
      "Epoch 4/60\n",
      "32/32 - 0s - loss: 1188211584.0000 - root_mean_squared_error: 34470.4453 - val_loss: 2229611520.0000 - val_root_mean_squared_error: 47218.7617 - 67ms/epoch - 2ms/step\n",
      "Epoch 5/60\n",
      "32/32 - 0s - loss: 806231040.0000 - root_mean_squared_error: 28394.2070 - val_loss: 2024136576.0000 - val_root_mean_squared_error: 44990.4062 - 66ms/epoch - 2ms/step\n",
      "Epoch 6/60\n",
      "32/32 - 0s - loss: 632345344.0000 - root_mean_squared_error: 25146.4785 - val_loss: 1927019904.0000 - val_root_mean_squared_error: 43897.8359 - 58ms/epoch - 2ms/step\n",
      "Epoch 7/60\n",
      "32/32 - 0s - loss: 524642272.0000 - root_mean_squared_error: 22905.0703 - val_loss: 1848297088.0000 - val_root_mean_squared_error: 42991.8242 - 76ms/epoch - 2ms/step\n",
      "Epoch 8/60\n",
      "32/32 - 0s - loss: 492798016.0000 - root_mean_squared_error: 22199.0547 - val_loss: 1848181888.0000 - val_root_mean_squared_error: 42990.4844 - 74ms/epoch - 2ms/step\n",
      "Epoch 9/60\n",
      "32/32 - 0s - loss: 414505408.0000 - root_mean_squared_error: 20359.4062 - val_loss: 1767448832.0000 - val_root_mean_squared_error: 42041.0352 - 71ms/epoch - 2ms/step\n",
      "Epoch 10/60\n",
      "32/32 - 0s - loss: 365060576.0000 - root_mean_squared_error: 19106.5586 - val_loss: 1706449664.0000 - val_root_mean_squared_error: 41309.1953 - 73ms/epoch - 2ms/step\n",
      "Epoch 11/60\n",
      "32/32 - 0s - loss: 334544960.0000 - root_mean_squared_error: 18290.5703 - val_loss: 1684000256.0000 - val_root_mean_squared_error: 41036.5703 - 76ms/epoch - 2ms/step\n",
      "Epoch 12/60\n",
      "32/32 - 0s - loss: 305686176.0000 - root_mean_squared_error: 17483.8828 - val_loss: 1682256512.0000 - val_root_mean_squared_error: 41015.3203 - 70ms/epoch - 2ms/step\n",
      "Epoch 13/60\n",
      "32/32 - 0s - loss: 296493696.0000 - root_mean_squared_error: 17218.9922 - val_loss: 1698605440.0000 - val_root_mean_squared_error: 41214.1406 - 81ms/epoch - 3ms/step\n",
      "Epoch 14/60\n",
      "32/32 - 0s - loss: 264230640.0000 - root_mean_squared_error: 16255.1729 - val_loss: 1689360896.0000 - val_root_mean_squared_error: 41101.8359 - 60ms/epoch - 2ms/step\n",
      "Epoch 15/60\n",
      "32/32 - 0s - loss: 259394928.0000 - root_mean_squared_error: 16105.7422 - val_loss: 1623994112.0000 - val_root_mean_squared_error: 40298.8086 - 81ms/epoch - 3ms/step\n",
      "Epoch 16/60\n",
      "32/32 - 0s - loss: 251343184.0000 - root_mean_squared_error: 15853.8066 - val_loss: 1621383808.0000 - val_root_mean_squared_error: 40266.4102 - 68ms/epoch - 2ms/step\n",
      "Epoch 17/60\n",
      "32/32 - 0s - loss: 221660480.0000 - root_mean_squared_error: 14888.2666 - val_loss: 1624897792.0000 - val_root_mean_squared_error: 40310.0195 - 70ms/epoch - 2ms/step\n",
      "Epoch 18/60\n",
      "32/32 - 0s - loss: 219157680.0000 - root_mean_squared_error: 14803.9746 - val_loss: 1674438784.0000 - val_root_mean_squared_error: 40919.9062 - 64ms/epoch - 2ms/step\n",
      "Epoch 19/60\n",
      "32/32 - 0s - loss: 213427776.0000 - root_mean_squared_error: 14609.1680 - val_loss: 1596790656.0000 - val_root_mean_squared_error: 39959.8633 - 64ms/epoch - 2ms/step\n",
      "Epoch 20/60\n",
      "32/32 - 0s - loss: 191870624.0000 - root_mean_squared_error: 13851.7373 - val_loss: 1582725248.0000 - val_root_mean_squared_error: 39783.4805 - 65ms/epoch - 2ms/step\n",
      "Epoch 21/60\n",
      "32/32 - 0s - loss: 194386304.0000 - root_mean_squared_error: 13942.2490 - val_loss: 1577244800.0000 - val_root_mean_squared_error: 39714.5391 - 61ms/epoch - 2ms/step\n",
      "Epoch 22/60\n",
      "32/32 - 0s - loss: 188112704.0000 - root_mean_squared_error: 13715.4180 - val_loss: 1599250176.0000 - val_root_mean_squared_error: 39990.6250 - 82ms/epoch - 3ms/step\n",
      "Epoch 23/60\n",
      "32/32 - 0s - loss: 164419776.0000 - root_mean_squared_error: 12822.6270 - val_loss: 1609516672.0000 - val_root_mean_squared_error: 40118.7812 - 66ms/epoch - 2ms/step\n",
      "Epoch 24/60\n",
      "32/32 - 0s - loss: 160766016.0000 - root_mean_squared_error: 12679.3535 - val_loss: 1568474240.0000 - val_root_mean_squared_error: 39603.9688 - 66ms/epoch - 2ms/step\n",
      "Epoch 25/60\n",
      "32/32 - 0s - loss: 165189664.0000 - root_mean_squared_error: 12852.6133 - val_loss: 1609173632.0000 - val_root_mean_squared_error: 40114.5078 - 63ms/epoch - 2ms/step\n",
      "Epoch 26/60\n",
      "32/32 - 0s - loss: 151017056.0000 - root_mean_squared_error: 12288.8994 - val_loss: 1530402176.0000 - val_root_mean_squared_error: 39120.3555 - 60ms/epoch - 2ms/step\n",
      "Epoch 27/60\n",
      "32/32 - 0s - loss: 144190544.0000 - root_mean_squared_error: 12007.9365 - val_loss: 1536931456.0000 - val_root_mean_squared_error: 39203.7188 - 76ms/epoch - 2ms/step\n",
      "Epoch 28/60\n",
      "32/32 - 0s - loss: 144367056.0000 - root_mean_squared_error: 12015.2842 - val_loss: 1518620160.0000 - val_root_mean_squared_error: 38969.4766 - 60ms/epoch - 2ms/step\n",
      "Epoch 29/60\n",
      "32/32 - 0s - loss: 137420720.0000 - root_mean_squared_error: 11722.6582 - val_loss: 1516391936.0000 - val_root_mean_squared_error: 38940.8750 - 72ms/epoch - 2ms/step\n",
      "Epoch 30/60\n",
      "32/32 - 0s - loss: 127710368.0000 - root_mean_squared_error: 11300.9014 - val_loss: 1504349312.0000 - val_root_mean_squared_error: 38785.9414 - 62ms/epoch - 2ms/step\n",
      "Epoch 31/60\n",
      "32/32 - 0s - loss: 126240528.0000 - root_mean_squared_error: 11235.6807 - val_loss: 1520837248.0000 - val_root_mean_squared_error: 38997.9141 - 62ms/epoch - 2ms/step\n",
      "Epoch 32/60\n",
      "32/32 - 0s - loss: 120695256.0000 - root_mean_squared_error: 10986.1387 - val_loss: 1549692032.0000 - val_root_mean_squared_error: 39366.1250 - 62ms/epoch - 2ms/step\n",
      "Epoch 33/60\n",
      "32/32 - 0s - loss: 125108584.0000 - root_mean_squared_error: 11185.1943 - val_loss: 1527122560.0000 - val_root_mean_squared_error: 39078.4141 - 63ms/epoch - 2ms/step\n",
      "Epoch 34/60\n",
      "32/32 - 0s - loss: 121624352.0000 - root_mean_squared_error: 11028.3428 - val_loss: 1488202496.0000 - val_root_mean_squared_error: 38577.2266 - 67ms/epoch - 2ms/step\n",
      "Epoch 35/60\n",
      "32/32 - 0s - loss: 110230568.0000 - root_mean_squared_error: 10499.0742 - val_loss: 1497988096.0000 - val_root_mean_squared_error: 38703.8516 - 64ms/epoch - 2ms/step\n",
      "Epoch 36/60\n",
      "32/32 - 0s - loss: 111750600.0000 - root_mean_squared_error: 10571.2158 - val_loss: 1488633856.0000 - val_root_mean_squared_error: 38582.8164 - 65ms/epoch - 2ms/step\n",
      "Epoch 37/60\n",
      "32/32 - 0s - loss: 109823840.0000 - root_mean_squared_error: 10479.6865 - val_loss: 1487837952.0000 - val_root_mean_squared_error: 38572.5000 - 65ms/epoch - 2ms/step\n",
      "Epoch 38/60\n",
      "32/32 - 0s - loss: 103406504.0000 - root_mean_squared_error: 10168.8984 - val_loss: 1461805440.0000 - val_root_mean_squared_error: 38233.5625 - 65ms/epoch - 2ms/step\n",
      "Epoch 39/60\n",
      "32/32 - 0s - loss: 94373744.0000 - root_mean_squared_error: 9714.6152 - val_loss: 1476439168.0000 - val_root_mean_squared_error: 38424.4609 - 67ms/epoch - 2ms/step\n",
      "Epoch 40/60\n",
      "32/32 - 0s - loss: 97946416.0000 - root_mean_squared_error: 9896.7881 - val_loss: 1457539456.0000 - val_root_mean_squared_error: 38177.7344 - 63ms/epoch - 2ms/step\n",
      "Epoch 41/60\n",
      "32/32 - 0s - loss: 90937448.0000 - root_mean_squared_error: 9536.1133 - val_loss: 1458327936.0000 - val_root_mean_squared_error: 38188.0625 - 65ms/epoch - 2ms/step\n",
      "Epoch 42/60\n",
      "32/32 - 0s - loss: 89738104.0000 - root_mean_squared_error: 9473.0195 - val_loss: 1431054848.0000 - val_root_mean_squared_error: 37829.2852 - 67ms/epoch - 2ms/step\n",
      "Epoch 43/60\n",
      "32/32 - 0s - loss: 86723896.0000 - root_mean_squared_error: 9312.5664 - val_loss: 1434347008.0000 - val_root_mean_squared_error: 37872.7734 - 63ms/epoch - 2ms/step\n",
      "Epoch 44/60\n",
      "32/32 - 0s - loss: 82595760.0000 - root_mean_squared_error: 9088.2207 - val_loss: 1474152320.0000 - val_root_mean_squared_error: 38394.6914 - 64ms/epoch - 2ms/step\n",
      "Epoch 45/60\n",
      "32/32 - 0s - loss: 87282368.0000 - root_mean_squared_error: 9342.5029 - val_loss: 1432271232.0000 - val_root_mean_squared_error: 37845.3594 - 63ms/epoch - 2ms/step\n",
      "Epoch 46/60\n",
      "32/32 - 0s - loss: 89534240.0000 - root_mean_squared_error: 9462.2529 - val_loss: 1439324160.0000 - val_root_mean_squared_error: 37938.4258 - 65ms/epoch - 2ms/step\n",
      "Epoch 47/60\n",
      "32/32 - 0s - loss: 86072840.0000 - root_mean_squared_error: 9277.5449 - val_loss: 1442989312.0000 - val_root_mean_squared_error: 37986.6992 - 67ms/epoch - 2ms/step\n",
      "Epoch 48/60\n",
      "32/32 - 0s - loss: 81853616.0000 - root_mean_squared_error: 9047.2988 - val_loss: 1439685120.0000 - val_root_mean_squared_error: 37943.1836 - 68ms/epoch - 2ms/step\n",
      "Epoch 49/60\n",
      "32/32 - 0s - loss: 78768096.0000 - root_mean_squared_error: 8875.1387 - val_loss: 1481029120.0000 - val_root_mean_squared_error: 38484.1406 - 64ms/epoch - 2ms/step\n",
      "Epoch 50/60\n",
      "32/32 - 0s - loss: 83160336.0000 - root_mean_squared_error: 9119.2285 - val_loss: 1457566336.0000 - val_root_mean_squared_error: 38178.0859 - 69ms/epoch - 2ms/step\n",
      "Epoch 51/60\n",
      "32/32 - 0s - loss: 77812344.0000 - root_mean_squared_error: 8821.1299 - val_loss: 1438962048.0000 - val_root_mean_squared_error: 37933.6523 - 62ms/epoch - 2ms/step\n",
      "Epoch 52/60\n",
      "32/32 - 0s - loss: 70836312.0000 - root_mean_squared_error: 8416.4307 - val_loss: 1424225664.0000 - val_root_mean_squared_error: 37738.9141 - 65ms/epoch - 2ms/step\n",
      "Epoch 53/60\n",
      "32/32 - 0s - loss: 73448368.0000 - root_mean_squared_error: 8570.2021 - val_loss: 1438529408.0000 - val_root_mean_squared_error: 37927.9492 - 65ms/epoch - 2ms/step\n",
      "Epoch 54/60\n",
      "32/32 - 0s - loss: 63541012.0000 - root_mean_squared_error: 7971.2617 - val_loss: 1450645504.0000 - val_root_mean_squared_error: 38087.3398 - 66ms/epoch - 2ms/step\n",
      "Epoch 55/60\n",
      "32/32 - 0s - loss: 71859888.0000 - root_mean_squared_error: 8477.0205 - val_loss: 1457808768.0000 - val_root_mean_squared_error: 38181.2617 - 64ms/epoch - 2ms/step\n",
      "Epoch 56/60\n",
      "32/32 - 0s - loss: 72265792.0000 - root_mean_squared_error: 8500.9287 - val_loss: 1444500608.0000 - val_root_mean_squared_error: 38006.5859 - 66ms/epoch - 2ms/step\n",
      "Epoch 57/60\n",
      "32/32 - 0s - loss: 64133396.0000 - root_mean_squared_error: 8008.3330 - val_loss: 1437439616.0000 - val_root_mean_squared_error: 37913.5820 - 64ms/epoch - 2ms/step\n",
      "Epoch 58/60\n",
      "32/32 - 0s - loss: 61867632.0000 - root_mean_squared_error: 7865.5981 - val_loss: 1438870656.0000 - val_root_mean_squared_error: 37932.4492 - 71ms/epoch - 2ms/step\n",
      "Epoch 59/60\n",
      "32/32 - 0s - loss: 63596156.0000 - root_mean_squared_error: 7974.7197 - val_loss: 1435999488.0000 - val_root_mean_squared_error: 37894.5820 - 63ms/epoch - 2ms/step\n",
      "Epoch 60/60\n",
      "32/32 - 0s - loss: 62828824.0000 - root_mean_squared_error: 7926.4634 - val_loss: 1433027328.0000 - val_root_mean_squared_error: 37855.3477 - 66ms/epoch - 2ms/step\n"
     ]
    },
    {
     "data": {
      "text/plain": [
       "<keras.callbacks.History at 0x7fe2e47c8dc0>"
      ]
     },
     "execution_count": 40,
     "metadata": {},
     "output_type": "execute_result"
    }
   ],
   "source": [
    "model_tf.fit(X,y, validation_split=0.3, epochs=60, verbose=2)"
   ]
  },
  {
   "cell_type": "markdown",
   "id": "85174d86",
   "metadata": {},
   "source": [
    "# Testing XGBoost"
   ]
  },
  {
   "cell_type": "code",
   "execution_count": 131,
   "id": "c60255d0",
   "metadata": {},
   "outputs": [
    {
     "name": "stderr",
     "output_type": "stream",
     "text": [
      "/usr/local/lib/python3.8/dist-packages/xgboost/compat.py:36: FutureWarning: pandas.Int64Index is deprecated and will be removed from pandas in a future version. Use pandas.Index with the appropriate dtype instead.\n",
      "  from pandas import MultiIndex, Int64Index\n"
     ]
    }
   ],
   "source": [
    "import xgboost"
   ]
  },
  {
   "cell_type": "code",
   "execution_count": 133,
   "id": "c8e71a47",
   "metadata": {},
   "outputs": [],
   "source": [
    "from xgboost import XGBRegressor\n",
    "from sklearn.model_selection import RepeatedKFold\n",
    "from sklearn.model_selection import cross_val_score\n",
    "\n",
    "model_xgb = XGBRegressor(n_estimators=1500, max_depth=10, eta=0.07, subsample=0.7, \n",
    "                     colsample_bytree=0.8, tree_method='gpu_hist', n_jobs=20, eval_metric='rmse')"
   ]
  },
  {
   "cell_type": "code",
   "execution_count": 140,
   "id": "9ba53a2e",
   "metadata": {},
   "outputs": [
    {
     "name": "stderr",
     "output_type": "stream",
     "text": [
      "/usr/local/lib/python3.8/dist-packages/xgboost/data.py:262: FutureWarning: pandas.Int64Index is deprecated and will be removed from pandas in a future version. Use pandas.Index with the appropriate dtype instead.\n",
      "  elif isinstance(data.columns, (pd.Int64Index, pd.RangeIndex)):\n"
     ]
    },
    {
     "data": {
      "text/plain": [
       "XGBRegressor(base_score=0.5, booster='gbtree', colsample_bylevel=1,\n",
       "             colsample_bynode=1, colsample_bytree=0.8, enable_categorical=False,\n",
       "             eta=0.07, eval_metric='rmse', gamma=0, gpu_id=0,\n",
       "             importance_type=None, interaction_constraints='',\n",
       "             learning_rate=0.0700000003, max_delta_step=0, max_depth=10,\n",
       "             min_child_weight=1, missing=nan, monotone_constraints='()',\n",
       "             n_estimators=1500, n_jobs=20, num_parallel_tree=1,\n",
       "             predictor='auto', random_state=0, reg_alpha=0, reg_lambda=1,\n",
       "             scale_pos_weight=1, subsample=0.7, tree_method='gpu_hist',\n",
       "             validate_parameters=1, verbosity=None)"
      ]
     },
     "execution_count": 140,
     "metadata": {},
     "output_type": "execute_result"
    }
   ],
   "source": [
    "model_xgb.fit(X,y)"
   ]
  },
  {
   "cell_type": "code",
   "execution_count": 141,
   "id": "97ef77f9",
   "metadata": {},
   "outputs": [
    {
     "name": "stderr",
     "output_type": "stream",
     "text": [
      "/usr/local/lib/python3.8/dist-packages/xgboost/data.py:262: FutureWarning: pandas.Int64Index is deprecated and will be removed from pandas in a future version. Use pandas.Index with the appropriate dtype instead.\n",
      "  elif isinstance(data.columns, (pd.Int64Index, pd.RangeIndex)):\n",
      "/usr/local/lib/python3.8/dist-packages/xgboost/data.py:262: FutureWarning: pandas.Int64Index is deprecated and will be removed from pandas in a future version. Use pandas.Index with the appropriate dtype instead.\n",
      "  elif isinstance(data.columns, (pd.Int64Index, pd.RangeIndex)):\n",
      "/usr/local/lib/python3.8/dist-packages/xgboost/data.py:262: FutureWarning: pandas.Int64Index is deprecated and will be removed from pandas in a future version. Use pandas.Index with the appropriate dtype instead.\n",
      "  elif isinstance(data.columns, (pd.Int64Index, pd.RangeIndex)):\n",
      "/usr/local/lib/python3.8/dist-packages/xgboost/data.py:262: FutureWarning: pandas.Int64Index is deprecated and will be removed from pandas in a future version. Use pandas.Index with the appropriate dtype instead.\n",
      "  elif isinstance(data.columns, (pd.Int64Index, pd.RangeIndex)):\n",
      "/usr/local/lib/python3.8/dist-packages/xgboost/data.py:262: FutureWarning: pandas.Int64Index is deprecated and will be removed from pandas in a future version. Use pandas.Index with the appropriate dtype instead.\n",
      "  elif isinstance(data.columns, (pd.Int64Index, pd.RangeIndex)):\n"
     ]
    },
    {
     "name": "stdout",
     "output_type": "stream",
     "text": [
      "Score: 0.8846759538159219\n"
     ]
    }
   ],
   "source": [
    "score = np.mean(cross_val_score(model_xgb, X, y))\n",
    "\n",
    "print('Score:', score)"
   ]
  },
  {
   "cell_type": "markdown",
   "id": "262143d1",
   "metadata": {
    "_cell_guid": "dc76ed22-7360-4cf1-b0d7-45507a047904",
    "_uuid": "dceeb095-6a00-46a9-88d6-c3661ee85d1d",
    "papermill": {
     "duration": 0.043297,
     "end_time": "2022-04-11T04:29:53.582003",
     "exception": false,
     "start_time": "2022-04-11T04:29:53.538706",
     "status": "completed"
    },
    "tags": []
   },
   "source": [
    "# Submission"
   ]
  },
  {
   "cell_type": "markdown",
   "id": "3f2fb251",
   "metadata": {
    "_cell_guid": "9ddce2e7-4aa2-46ac-a20f-bf63496f20e2",
    "_uuid": "6766465a-780b-467c-988d-14d321616c7a",
    "papermill": {
     "duration": 0.043845,
     "end_time": "2022-04-11T04:29:53.669356",
     "exception": false,
     "start_time": "2022-04-11T04:29:53.625511",
     "status": "completed"
    },
    "tags": []
   },
   "source": [
    "### Reading test data"
   ]
  },
  {
   "cell_type": "code",
   "execution_count": 142,
   "id": "03d8bf37",
   "metadata": {
    "_cell_guid": "14f401a1-b22f-47d8-8a86-4ea563329055",
    "_uuid": "3a9363b5-1826-4453-8af3-23875114ee58",
    "collapsed": false,
    "execution": {
     "iopub.execute_input": "2022-04-11T04:29:53.761962Z",
     "iopub.status.busy": "2022-04-11T04:29:53.758804Z",
     "iopub.status.idle": "2022-04-11T04:29:53.807848Z",
     "shell.execute_reply": "2022-04-11T04:29:53.807210Z",
     "shell.execute_reply.started": "2022-04-11T04:27:29.230929Z"
    },
    "jupyter": {
     "outputs_hidden": false
    },
    "papermill": {
     "duration": 0.094948,
     "end_time": "2022-04-11T04:29:53.807999",
     "exception": false,
     "start_time": "2022-04-11T04:29:53.713051",
     "status": "completed"
    },
    "tags": []
   },
   "outputs": [
    {
     "data": {
      "text/html": [
       "<div>\n",
       "<style scoped>\n",
       "    .dataframe tbody tr th:only-of-type {\n",
       "        vertical-align: middle;\n",
       "    }\n",
       "\n",
       "    .dataframe tbody tr th {\n",
       "        vertical-align: top;\n",
       "    }\n",
       "\n",
       "    .dataframe thead th {\n",
       "        text-align: right;\n",
       "    }\n",
       "</style>\n",
       "<table border=\"1\" class=\"dataframe\">\n",
       "  <thead>\n",
       "    <tr style=\"text-align: right;\">\n",
       "      <th></th>\n",
       "      <th>MSSubClass</th>\n",
       "      <th>MSZoning</th>\n",
       "      <th>LotFrontage</th>\n",
       "      <th>LotArea</th>\n",
       "      <th>Street</th>\n",
       "      <th>Alley</th>\n",
       "      <th>LotShape</th>\n",
       "      <th>LandContour</th>\n",
       "      <th>Utilities</th>\n",
       "      <th>LotConfig</th>\n",
       "      <th>...</th>\n",
       "      <th>ScreenPorch</th>\n",
       "      <th>PoolArea</th>\n",
       "      <th>PoolQC</th>\n",
       "      <th>Fence</th>\n",
       "      <th>MiscFeature</th>\n",
       "      <th>MiscVal</th>\n",
       "      <th>MoSold</th>\n",
       "      <th>YrSold</th>\n",
       "      <th>SaleType</th>\n",
       "      <th>SaleCondition</th>\n",
       "    </tr>\n",
       "    <tr>\n",
       "      <th>Id</th>\n",
       "      <th></th>\n",
       "      <th></th>\n",
       "      <th></th>\n",
       "      <th></th>\n",
       "      <th></th>\n",
       "      <th></th>\n",
       "      <th></th>\n",
       "      <th></th>\n",
       "      <th></th>\n",
       "      <th></th>\n",
       "      <th></th>\n",
       "      <th></th>\n",
       "      <th></th>\n",
       "      <th></th>\n",
       "      <th></th>\n",
       "      <th></th>\n",
       "      <th></th>\n",
       "      <th></th>\n",
       "      <th></th>\n",
       "      <th></th>\n",
       "      <th></th>\n",
       "    </tr>\n",
       "  </thead>\n",
       "  <tbody>\n",
       "    <tr>\n",
       "      <th>1461</th>\n",
       "      <td>20</td>\n",
       "      <td>RH</td>\n",
       "      <td>80.0</td>\n",
       "      <td>11622</td>\n",
       "      <td>Pave</td>\n",
       "      <td>NaN</td>\n",
       "      <td>Reg</td>\n",
       "      <td>Lvl</td>\n",
       "      <td>AllPub</td>\n",
       "      <td>Inside</td>\n",
       "      <td>...</td>\n",
       "      <td>120</td>\n",
       "      <td>0</td>\n",
       "      <td>NaN</td>\n",
       "      <td>MnPrv</td>\n",
       "      <td>NaN</td>\n",
       "      <td>0</td>\n",
       "      <td>6</td>\n",
       "      <td>2010</td>\n",
       "      <td>WD</td>\n",
       "      <td>Normal</td>\n",
       "    </tr>\n",
       "    <tr>\n",
       "      <th>1462</th>\n",
       "      <td>20</td>\n",
       "      <td>RL</td>\n",
       "      <td>81.0</td>\n",
       "      <td>14267</td>\n",
       "      <td>Pave</td>\n",
       "      <td>NaN</td>\n",
       "      <td>IR1</td>\n",
       "      <td>Lvl</td>\n",
       "      <td>AllPub</td>\n",
       "      <td>Corner</td>\n",
       "      <td>...</td>\n",
       "      <td>0</td>\n",
       "      <td>0</td>\n",
       "      <td>NaN</td>\n",
       "      <td>NaN</td>\n",
       "      <td>Gar2</td>\n",
       "      <td>12500</td>\n",
       "      <td>6</td>\n",
       "      <td>2010</td>\n",
       "      <td>WD</td>\n",
       "      <td>Normal</td>\n",
       "    </tr>\n",
       "    <tr>\n",
       "      <th>1463</th>\n",
       "      <td>60</td>\n",
       "      <td>RL</td>\n",
       "      <td>74.0</td>\n",
       "      <td>13830</td>\n",
       "      <td>Pave</td>\n",
       "      <td>NaN</td>\n",
       "      <td>IR1</td>\n",
       "      <td>Lvl</td>\n",
       "      <td>AllPub</td>\n",
       "      <td>Inside</td>\n",
       "      <td>...</td>\n",
       "      <td>0</td>\n",
       "      <td>0</td>\n",
       "      <td>NaN</td>\n",
       "      <td>MnPrv</td>\n",
       "      <td>NaN</td>\n",
       "      <td>0</td>\n",
       "      <td>3</td>\n",
       "      <td>2010</td>\n",
       "      <td>WD</td>\n",
       "      <td>Normal</td>\n",
       "    </tr>\n",
       "    <tr>\n",
       "      <th>1464</th>\n",
       "      <td>60</td>\n",
       "      <td>RL</td>\n",
       "      <td>78.0</td>\n",
       "      <td>9978</td>\n",
       "      <td>Pave</td>\n",
       "      <td>NaN</td>\n",
       "      <td>IR1</td>\n",
       "      <td>Lvl</td>\n",
       "      <td>AllPub</td>\n",
       "      <td>Inside</td>\n",
       "      <td>...</td>\n",
       "      <td>0</td>\n",
       "      <td>0</td>\n",
       "      <td>NaN</td>\n",
       "      <td>NaN</td>\n",
       "      <td>NaN</td>\n",
       "      <td>0</td>\n",
       "      <td>6</td>\n",
       "      <td>2010</td>\n",
       "      <td>WD</td>\n",
       "      <td>Normal</td>\n",
       "    </tr>\n",
       "    <tr>\n",
       "      <th>1465</th>\n",
       "      <td>120</td>\n",
       "      <td>RL</td>\n",
       "      <td>43.0</td>\n",
       "      <td>5005</td>\n",
       "      <td>Pave</td>\n",
       "      <td>NaN</td>\n",
       "      <td>IR1</td>\n",
       "      <td>HLS</td>\n",
       "      <td>AllPub</td>\n",
       "      <td>Inside</td>\n",
       "      <td>...</td>\n",
       "      <td>144</td>\n",
       "      <td>0</td>\n",
       "      <td>NaN</td>\n",
       "      <td>NaN</td>\n",
       "      <td>NaN</td>\n",
       "      <td>0</td>\n",
       "      <td>1</td>\n",
       "      <td>2010</td>\n",
       "      <td>WD</td>\n",
       "      <td>Normal</td>\n",
       "    </tr>\n",
       "  </tbody>\n",
       "</table>\n",
       "<p>5 rows × 79 columns</p>\n",
       "</div>"
      ],
      "text/plain": [
       "      MSSubClass MSZoning  LotFrontage  LotArea Street Alley LotShape  \\\n",
       "Id                                                                      \n",
       "1461          20       RH         80.0    11622   Pave   NaN      Reg   \n",
       "1462          20       RL         81.0    14267   Pave   NaN      IR1   \n",
       "1463          60       RL         74.0    13830   Pave   NaN      IR1   \n",
       "1464          60       RL         78.0     9978   Pave   NaN      IR1   \n",
       "1465         120       RL         43.0     5005   Pave   NaN      IR1   \n",
       "\n",
       "     LandContour Utilities LotConfig  ... ScreenPorch PoolArea PoolQC  Fence  \\\n",
       "Id                                    ...                                      \n",
       "1461         Lvl    AllPub    Inside  ...         120        0    NaN  MnPrv   \n",
       "1462         Lvl    AllPub    Corner  ...           0        0    NaN    NaN   \n",
       "1463         Lvl    AllPub    Inside  ...           0        0    NaN  MnPrv   \n",
       "1464         Lvl    AllPub    Inside  ...           0        0    NaN    NaN   \n",
       "1465         HLS    AllPub    Inside  ...         144        0    NaN    NaN   \n",
       "\n",
       "     MiscFeature MiscVal  MoSold  YrSold  SaleType  SaleCondition  \n",
       "Id                                                                 \n",
       "1461         NaN       0       6    2010        WD         Normal  \n",
       "1462        Gar2   12500       6    2010        WD         Normal  \n",
       "1463         NaN       0       3    2010        WD         Normal  \n",
       "1464         NaN       0       6    2010        WD         Normal  \n",
       "1465         NaN       0       1    2010        WD         Normal  \n",
       "\n",
       "[5 rows x 79 columns]"
      ]
     },
     "execution_count": 142,
     "metadata": {},
     "output_type": "execute_result"
    }
   ],
   "source": [
    "test_df = pd.read_csv('test.csv', index_col=\"Id\")\n",
    "test_df.head()"
   ]
  },
  {
   "cell_type": "markdown",
   "id": "5beb1082",
   "metadata": {
    "_cell_guid": "4b9f5d85-f755-463e-9def-8a3b51f47b9d",
    "_uuid": "0a17d6a0-21ed-42a6-b42a-3022f91529a8",
    "papermill": {
     "duration": 0.065393,
     "end_time": "2022-04-11T04:29:53.940929",
     "exception": false,
     "start_time": "2022-04-11T04:29:53.875536",
     "status": "completed"
    },
    "tags": []
   },
   "source": [
    "### Preparing test data for model"
   ]
  },
  {
   "cell_type": "code",
   "execution_count": 143,
   "id": "12da3750",
   "metadata": {
    "_cell_guid": "2f89b4c7-bf07-456a-a4e1-8dc175326060",
    "_uuid": "348de84f-9652-4074-b6b5-650566f8f33c",
    "collapsed": false,
    "execution": {
     "iopub.execute_input": "2022-04-11T04:29:54.086750Z",
     "iopub.status.busy": "2022-04-11T04:29:54.085999Z",
     "iopub.status.idle": "2022-04-11T04:29:54.515349Z",
     "shell.execute_reply": "2022-04-11T04:29:54.514802Z",
     "shell.execute_reply.started": "2022-04-11T04:28:02.923601Z"
    },
    "jupyter": {
     "outputs_hidden": false
    },
    "papermill": {
     "duration": 0.50798,
     "end_time": "2022-04-11T04:29:54.515485",
     "exception": false,
     "start_time": "2022-04-11T04:29:54.007505",
     "status": "completed"
    },
    "tags": []
   },
   "outputs": [
    {
     "data": {
      "text/html": [
       "<div>\n",
       "<style scoped>\n",
       "    .dataframe tbody tr th:only-of-type {\n",
       "        vertical-align: middle;\n",
       "    }\n",
       "\n",
       "    .dataframe tbody tr th {\n",
       "        vertical-align: top;\n",
       "    }\n",
       "\n",
       "    .dataframe thead th {\n",
       "        text-align: right;\n",
       "    }\n",
       "</style>\n",
       "<table border=\"1\" class=\"dataframe\">\n",
       "  <thead>\n",
       "    <tr style=\"text-align: right;\">\n",
       "      <th></th>\n",
       "      <th>LotFrontage</th>\n",
       "      <th>LotArea</th>\n",
       "      <th>LotShape</th>\n",
       "      <th>Utilities</th>\n",
       "      <th>LandSlope</th>\n",
       "      <th>OverallQual</th>\n",
       "      <th>OverallCond</th>\n",
       "      <th>YearBuilt</th>\n",
       "      <th>YearRemodAdd</th>\n",
       "      <th>MasVnrArea</th>\n",
       "      <th>...</th>\n",
       "      <th>Alley_Grvl</th>\n",
       "      <th>Alley_Pave</th>\n",
       "      <th>Fence_GdPrv</th>\n",
       "      <th>Fence_GdWo</th>\n",
       "      <th>Fence_MnPrv</th>\n",
       "      <th>Fence_MnWw</th>\n",
       "      <th>MiscFeature_Gar2</th>\n",
       "      <th>MiscFeature_Othr</th>\n",
       "      <th>MiscFeature_Shed</th>\n",
       "      <th>MiscFeature_TenC</th>\n",
       "    </tr>\n",
       "  </thead>\n",
       "  <tbody>\n",
       "    <tr>\n",
       "      <th>1461</th>\n",
       "      <td>0.684849</td>\n",
       "      <td>0.363929</td>\n",
       "      <td>-0.703009</td>\n",
       "      <td>0.03705</td>\n",
       "      <td>-0.207992</td>\n",
       "      <td>-0.751101</td>\n",
       "      <td>0.400766</td>\n",
       "      <td>-0.340945</td>\n",
       "      <td>-1.072885</td>\n",
       "      <td>-0.563316</td>\n",
       "      <td>...</td>\n",
       "      <td>-0.22449</td>\n",
       "      <td>-0.161306</td>\n",
       "      <td>-0.205287</td>\n",
       "      <td>-0.203467</td>\n",
       "      <td>2.735427</td>\n",
       "      <td>-0.026189</td>\n",
       "      <td>-0.045392</td>\n",
       "      <td>-0.03705</td>\n",
       "      <td>-0.18043</td>\n",
       "      <td>0.0</td>\n",
       "    </tr>\n",
       "    <tr>\n",
       "      <th>1462</th>\n",
       "      <td>0.715852</td>\n",
       "      <td>0.897861</td>\n",
       "      <td>1.090156</td>\n",
       "      <td>0.03705</td>\n",
       "      <td>-0.207992</td>\n",
       "      <td>-0.054877</td>\n",
       "      <td>0.400766</td>\n",
       "      <td>-0.439695</td>\n",
       "      <td>-1.214908</td>\n",
       "      <td>0.047057</td>\n",
       "      <td>...</td>\n",
       "      <td>-0.22449</td>\n",
       "      <td>-0.161306</td>\n",
       "      <td>-0.205287</td>\n",
       "      <td>-0.203467</td>\n",
       "      <td>-0.365574</td>\n",
       "      <td>-0.026189</td>\n",
       "      <td>22.030282</td>\n",
       "      <td>-0.03705</td>\n",
       "      <td>-0.18043</td>\n",
       "      <td>0.0</td>\n",
       "    </tr>\n",
       "    <tr>\n",
       "      <th>1463</th>\n",
       "      <td>0.498831</td>\n",
       "      <td>0.809646</td>\n",
       "      <td>1.090156</td>\n",
       "      <td>0.03705</td>\n",
       "      <td>-0.207992</td>\n",
       "      <td>-0.751101</td>\n",
       "      <td>-0.497418</td>\n",
       "      <td>0.844059</td>\n",
       "      <td>0.678742</td>\n",
       "      <td>-0.563316</td>\n",
       "      <td>...</td>\n",
       "      <td>-0.22449</td>\n",
       "      <td>-0.161306</td>\n",
       "      <td>-0.205287</td>\n",
       "      <td>-0.203467</td>\n",
       "      <td>2.735427</td>\n",
       "      <td>-0.026189</td>\n",
       "      <td>-0.045392</td>\n",
       "      <td>-0.03705</td>\n",
       "      <td>-0.18043</td>\n",
       "      <td>0.0</td>\n",
       "    </tr>\n",
       "    <tr>\n",
       "      <th>1464</th>\n",
       "      <td>0.622843</td>\n",
       "      <td>0.032064</td>\n",
       "      <td>1.090156</td>\n",
       "      <td>0.03705</td>\n",
       "      <td>-0.207992</td>\n",
       "      <td>-0.054877</td>\n",
       "      <td>0.400766</td>\n",
       "      <td>0.876976</td>\n",
       "      <td>0.678742</td>\n",
       "      <td>-0.450284</td>\n",
       "      <td>...</td>\n",
       "      <td>-0.22449</td>\n",
       "      <td>-0.161306</td>\n",
       "      <td>-0.205287</td>\n",
       "      <td>-0.203467</td>\n",
       "      <td>-0.365574</td>\n",
       "      <td>-0.026189</td>\n",
       "      <td>-0.045392</td>\n",
       "      <td>-0.03705</td>\n",
       "      <td>-0.18043</td>\n",
       "      <td>0.0</td>\n",
       "    </tr>\n",
       "    <tr>\n",
       "      <th>1465</th>\n",
       "      <td>-0.462261</td>\n",
       "      <td>-0.971808</td>\n",
       "      <td>1.090156</td>\n",
       "      <td>0.03705</td>\n",
       "      <td>-0.207992</td>\n",
       "      <td>1.337571</td>\n",
       "      <td>-0.497418</td>\n",
       "      <td>0.679475</td>\n",
       "      <td>0.394694</td>\n",
       "      <td>-0.563316</td>\n",
       "      <td>...</td>\n",
       "      <td>-0.22449</td>\n",
       "      <td>-0.161306</td>\n",
       "      <td>-0.205287</td>\n",
       "      <td>-0.203467</td>\n",
       "      <td>-0.365574</td>\n",
       "      <td>-0.026189</td>\n",
       "      <td>-0.045392</td>\n",
       "      <td>-0.03705</td>\n",
       "      <td>-0.18043</td>\n",
       "      <td>0.0</td>\n",
       "    </tr>\n",
       "  </tbody>\n",
       "</table>\n",
       "<p>5 rows × 219 columns</p>\n",
       "</div>"
      ],
      "text/plain": [
       "      LotFrontage   LotArea  LotShape  Utilities  LandSlope  OverallQual  \\\n",
       "1461     0.684849  0.363929 -0.703009    0.03705  -0.207992    -0.751101   \n",
       "1462     0.715852  0.897861  1.090156    0.03705  -0.207992    -0.054877   \n",
       "1463     0.498831  0.809646  1.090156    0.03705  -0.207992    -0.751101   \n",
       "1464     0.622843  0.032064  1.090156    0.03705  -0.207992    -0.054877   \n",
       "1465    -0.462261 -0.971808  1.090156    0.03705  -0.207992     1.337571   \n",
       "\n",
       "      OverallCond  YearBuilt  YearRemodAdd  MasVnrArea  ...  Alley_Grvl  \\\n",
       "1461     0.400766  -0.340945     -1.072885   -0.563316  ...    -0.22449   \n",
       "1462     0.400766  -0.439695     -1.214908    0.047057  ...    -0.22449   \n",
       "1463    -0.497418   0.844059      0.678742   -0.563316  ...    -0.22449   \n",
       "1464     0.400766   0.876976      0.678742   -0.450284  ...    -0.22449   \n",
       "1465    -0.497418   0.679475      0.394694   -0.563316  ...    -0.22449   \n",
       "\n",
       "      Alley_Pave  Fence_GdPrv  Fence_GdWo  Fence_MnPrv  Fence_MnWw  \\\n",
       "1461   -0.161306    -0.205287   -0.203467     2.735427   -0.026189   \n",
       "1462   -0.161306    -0.205287   -0.203467    -0.365574   -0.026189   \n",
       "1463   -0.161306    -0.205287   -0.203467     2.735427   -0.026189   \n",
       "1464   -0.161306    -0.205287   -0.203467    -0.365574   -0.026189   \n",
       "1465   -0.161306    -0.205287   -0.203467    -0.365574   -0.026189   \n",
       "\n",
       "      MiscFeature_Gar2  MiscFeature_Othr  MiscFeature_Shed  MiscFeature_TenC  \n",
       "1461         -0.045392          -0.03705          -0.18043               0.0  \n",
       "1462         22.030282          -0.03705          -0.18043               0.0  \n",
       "1463         -0.045392          -0.03705          -0.18043               0.0  \n",
       "1464         -0.045392          -0.03705          -0.18043               0.0  \n",
       "1465         -0.045392          -0.03705          -0.18043               0.0  \n",
       "\n",
       "[5 rows x 219 columns]"
      ]
     },
     "execution_count": 143,
     "metadata": {},
     "output_type": "execute_result"
    }
   ],
   "source": [
    "X_test = prepare_features(test_df, X.columns)\n",
    "X_test.head()"
   ]
  },
  {
   "cell_type": "markdown",
   "id": "e7406bbd",
   "metadata": {
    "_cell_guid": "a900969b-db80-4e91-93ed-1db7a9570e72",
    "_uuid": "60f02153-7ed6-42a1-83d6-fbb151cbf59c",
    "papermill": {
     "duration": 0.066403,
     "end_time": "2022-04-11T04:29:54.649210",
     "exception": false,
     "start_time": "2022-04-11T04:29:54.582807",
     "status": "completed"
    },
    "tags": []
   },
   "source": [
    "### Making predictions"
   ]
  },
  {
   "cell_type": "code",
   "execution_count": 145,
   "id": "bcb31595",
   "metadata": {
    "_cell_guid": "c4d99acd-c902-4c6d-b86b-d026060a1fb6",
    "_uuid": "8c81d5fe-7651-4d44-9c85-cad399488e4f",
    "collapsed": false,
    "execution": {
     "iopub.execute_input": "2022-04-11T04:29:54.787315Z",
     "iopub.status.busy": "2022-04-11T04:29:54.785030Z",
     "iopub.status.idle": "2022-04-11T04:29:54.821752Z",
     "shell.execute_reply": "2022-04-11T04:29:54.822212Z",
     "shell.execute_reply.started": "2022-04-11T04:28:14.071210Z"
    },
    "jupyter": {
     "outputs_hidden": false
    },
    "papermill": {
     "duration": 0.106407,
     "end_time": "2022-04-11T04:29:54.822349",
     "exception": false,
     "start_time": "2022-04-11T04:29:54.715942",
     "status": "completed"
    },
    "tags": []
   },
   "outputs": [
    {
     "name": "stderr",
     "output_type": "stream",
     "text": [
      "/usr/local/lib/python3.8/dist-packages/xgboost/data.py:262: FutureWarning: pandas.Int64Index is deprecated and will be removed from pandas in a future version. Use pandas.Index with the appropriate dtype instead.\n",
      "  elif isinstance(data.columns, (pd.Int64Index, pd.RangeIndex)):\n"
     ]
    },
    {
     "data": {
      "text/html": [
       "<div>\n",
       "<style scoped>\n",
       "    .dataframe tbody tr th:only-of-type {\n",
       "        vertical-align: middle;\n",
       "    }\n",
       "\n",
       "    .dataframe tbody tr th {\n",
       "        vertical-align: top;\n",
       "    }\n",
       "\n",
       "    .dataframe thead th {\n",
       "        text-align: right;\n",
       "    }\n",
       "</style>\n",
       "<table border=\"1\" class=\"dataframe\">\n",
       "  <thead>\n",
       "    <tr style=\"text-align: right;\">\n",
       "      <th></th>\n",
       "      <th>Id</th>\n",
       "      <th>SalePrice</th>\n",
       "    </tr>\n",
       "  </thead>\n",
       "  <tbody>\n",
       "    <tr>\n",
       "      <th>0</th>\n",
       "      <td>1461</td>\n",
       "      <td>123998.945312</td>\n",
       "    </tr>\n",
       "    <tr>\n",
       "      <th>1</th>\n",
       "      <td>1462</td>\n",
       "      <td>143914.906250</td>\n",
       "    </tr>\n",
       "    <tr>\n",
       "      <th>2</th>\n",
       "      <td>1463</td>\n",
       "      <td>169237.671875</td>\n",
       "    </tr>\n",
       "    <tr>\n",
       "      <th>3</th>\n",
       "      <td>1464</td>\n",
       "      <td>177276.375000</td>\n",
       "    </tr>\n",
       "    <tr>\n",
       "      <th>4</th>\n",
       "      <td>1465</td>\n",
       "      <td>154895.578125</td>\n",
       "    </tr>\n",
       "  </tbody>\n",
       "</table>\n",
       "</div>"
      ],
      "text/plain": [
       "     Id      SalePrice\n",
       "0  1461  123998.945312\n",
       "1  1462  143914.906250\n",
       "2  1463  169237.671875\n",
       "3  1464  177276.375000\n",
       "4  1465  154895.578125"
      ]
     },
     "execution_count": 145,
     "metadata": {},
     "output_type": "execute_result"
    }
   ],
   "source": [
    "test_preds = pd.DataFrame.from_dict({'Id': test_df.index,'SalePrice': (model_xgb.predict(X_test))})\n",
    "test_preds.head()"
   ]
  },
  {
   "cell_type": "markdown",
   "id": "ce22a127",
   "metadata": {
    "_cell_guid": "160dfe1a-13da-424f-aad0-e6a1b676b154",
    "_uuid": "2260bba0-2aa2-4148-82d2-7da8e92815c0",
    "papermill": {
     "duration": 0.044261,
     "end_time": "2022-04-11T04:29:54.910162",
     "exception": false,
     "start_time": "2022-04-11T04:29:54.865901",
     "status": "completed"
    },
    "tags": []
   },
   "source": [
    "### Saving submission file"
   ]
  },
  {
   "cell_type": "code",
   "execution_count": 146,
   "id": "3e464538",
   "metadata": {
    "_cell_guid": "9d028df6-b31c-47ab-93ee-8677f18bf943",
    "_uuid": "7332b142-125a-4996-bb8e-f38c0b5397c7",
    "collapsed": false,
    "execution": {
     "iopub.execute_input": "2022-04-11T04:29:55.000429Z",
     "iopub.status.busy": "2022-04-11T04:29:54.999942Z",
     "iopub.status.idle": "2022-04-11T04:29:55.014220Z",
     "shell.execute_reply": "2022-04-11T04:29:55.014684Z",
     "shell.execute_reply.started": "2022-04-11T04:28:17.845328Z"
    },
    "jupyter": {
     "outputs_hidden": false
    },
    "papermill": {
     "duration": 0.060858,
     "end_time": "2022-04-11T04:29:55.014821",
     "exception": false,
     "start_time": "2022-04-11T04:29:54.953963",
     "status": "completed"
    },
    "tags": []
   },
   "outputs": [
    {
     "data": {
      "text/html": [
       "<div>\n",
       "<style scoped>\n",
       "    .dataframe tbody tr th:only-of-type {\n",
       "        vertical-align: middle;\n",
       "    }\n",
       "\n",
       "    .dataframe tbody tr th {\n",
       "        vertical-align: top;\n",
       "    }\n",
       "\n",
       "    .dataframe thead th {\n",
       "        text-align: right;\n",
       "    }\n",
       "</style>\n",
       "<table border=\"1\" class=\"dataframe\">\n",
       "  <thead>\n",
       "    <tr style=\"text-align: right;\">\n",
       "      <th></th>\n",
       "      <th>Id</th>\n",
       "      <th>SalePrice</th>\n",
       "    </tr>\n",
       "  </thead>\n",
       "  <tbody>\n",
       "    <tr>\n",
       "      <th>0</th>\n",
       "      <td>1461</td>\n",
       "      <td>123998.945</td>\n",
       "    </tr>\n",
       "    <tr>\n",
       "      <th>1</th>\n",
       "      <td>1462</td>\n",
       "      <td>143914.900</td>\n",
       "    </tr>\n",
       "    <tr>\n",
       "      <th>2</th>\n",
       "      <td>1463</td>\n",
       "      <td>169237.670</td>\n",
       "    </tr>\n",
       "    <tr>\n",
       "      <th>3</th>\n",
       "      <td>1464</td>\n",
       "      <td>177276.380</td>\n",
       "    </tr>\n",
       "    <tr>\n",
       "      <th>4</th>\n",
       "      <td>1465</td>\n",
       "      <td>154895.580</td>\n",
       "    </tr>\n",
       "  </tbody>\n",
       "</table>\n",
       "</div>"
      ],
      "text/plain": [
       "     Id   SalePrice\n",
       "0  1461  123998.945\n",
       "1  1462  143914.900\n",
       "2  1463  169237.670\n",
       "3  1464  177276.380\n",
       "4  1465  154895.580"
      ]
     },
     "execution_count": 146,
     "metadata": {},
     "output_type": "execute_result"
    }
   ],
   "source": [
    "test_preds.to_csv('submission.csv', index=False)\n",
    "pd.read_csv('submission.csv').head()"
   ]
  },
  {
   "cell_type": "code",
   "execution_count": null,
   "id": "2d0b7729",
   "metadata": {},
   "outputs": [],
   "source": []
  }
 ],
 "metadata": {
  "kernelspec": {
   "display_name": "Python 3",
   "language": "python",
   "name": "python3"
  },
  "language_info": {
   "codemirror_mode": {
    "name": "ipython",
    "version": 3
   },
   "file_extension": ".py",
   "mimetype": "text/x-python",
   "name": "python",
   "nbconvert_exporter": "python",
   "pygments_lexer": "ipython3",
   "version": "3.8.10"
  },
  "papermill": {
   "default_parameters": {},
   "duration": 67.531196,
   "end_time": "2022-04-11T04:29:55.971452",
   "environment_variables": {},
   "exception": null,
   "input_path": "__notebook__.ipynb",
   "output_path": "__notebook__.ipynb",
   "parameters": {},
   "start_time": "2022-04-11T04:28:48.440256",
   "version": "2.3.3"
  }
 },
 "nbformat": 4,
 "nbformat_minor": 5
}
